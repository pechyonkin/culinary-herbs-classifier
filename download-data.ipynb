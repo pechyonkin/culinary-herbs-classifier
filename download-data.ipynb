{
 "cells": [
  {
   "cell_type": "markdown",
   "metadata": {},
   "source": [
    "### Imports"
   ]
  },
  {
   "cell_type": "code",
   "execution_count": 17,
   "metadata": {},
   "outputs": [],
   "source": [
    "from fastai.vision import *\n",
    "from pathlib import Path\n",
    "import numpy as np"
   ]
  },
  {
   "cell_type": "code",
   "execution_count": 2,
   "metadata": {},
   "outputs": [
    {
     "name": "stdout",
     "output_type": "stream",
     "text": [
      "/Users/fazzl/herbs\r\n"
     ]
    }
   ],
   "source": [
    "!pwd"
   ]
  },
  {
   "cell_type": "code",
   "execution_count": 3,
   "metadata": {},
   "outputs": [
    {
     "name": "stdout",
     "output_type": "stream",
     "text": [
      "README.md              \u001b[1m\u001b[34mimage-links\u001b[m\u001b[m            names.xlsx\r\n",
      "download-data.ipynb    lesson2-download.ipynb names2.xlsx\r\n",
      "einsum.ipynb           names.csv\r\n"
     ]
    }
   ],
   "source": [
    "!ls"
   ]
  },
  {
   "cell_type": "code",
   "execution_count": 4,
   "metadata": {},
   "outputs": [],
   "source": [
    "links_path = Path('image-links')\n",
    "data_root_path = Path('/Users/fazzl/data/herbs')"
   ]
  },
  {
   "cell_type": "code",
   "execution_count": 5,
   "metadata": {},
   "outputs": [
    {
     "data": {
      "text/plain": [
       "[PosixPath('image-links/23.csv'),\n",
       " PosixPath('image-links/22.csv'),\n",
       " PosixPath('image-links/08.csv'),\n",
       " PosixPath('image-links/20.csv'),\n",
       " PosixPath('image-links/21.csv'),\n",
       " PosixPath('image-links/09.csv'),\n",
       " PosixPath('image-links/25.csv'),\n",
       " PosixPath('image-links/19.csv'),\n",
       " PosixPath('image-links/18.csv'),\n",
       " PosixPath('image-links/24.csv'),\n",
       " PosixPath('image-links/26.csv'),\n",
       " PosixPath('image-links/27.csv'),\n",
       " PosixPath('image-links/16.csv'),\n",
       " PosixPath('image-links/02.csv'),\n",
       " PosixPath('image-links/03.csv'),\n",
       " PosixPath('image-links/17.csv'),\n",
       " PosixPath('image-links/29.csv'),\n",
       " PosixPath('image-links/01.csv'),\n",
       " PosixPath('image-links/15.csv'),\n",
       " PosixPath('image-links/14.csv'),\n",
       " PosixPath('image-links/28.csv'),\n",
       " PosixPath('image-links/04.csv'),\n",
       " PosixPath('image-links/10.csv'),\n",
       " PosixPath('image-links/11.csv'),\n",
       " PosixPath('image-links/05.csv'),\n",
       " PosixPath('image-links/13.csv'),\n",
       " PosixPath('image-links/07.csv'),\n",
       " PosixPath('image-links/06.csv'),\n",
       " PosixPath('image-links/12.csv')]"
      ]
     },
     "execution_count": 5,
     "metadata": {},
     "output_type": "execute_result"
    }
   ],
   "source": [
    "links_path.ls()"
   ]
  },
  {
   "cell_type": "code",
   "execution_count": 6,
   "metadata": {},
   "outputs": [],
   "source": [
    "folders = [p.stem for p in links_path.ls()]\n",
    "files = [p.name for p in links_path.ls()]"
   ]
  },
  {
   "cell_type": "code",
   "execution_count": 7,
   "metadata": {},
   "outputs": [
    {
     "data": {
      "text/plain": [
       "['23', '22', '08', '20', '21']"
      ]
     },
     "execution_count": 7,
     "metadata": {},
     "output_type": "execute_result"
    }
   ],
   "source": [
    "folders[:5]"
   ]
  },
  {
   "cell_type": "code",
   "execution_count": 8,
   "metadata": {},
   "outputs": [
    {
     "data": {
      "text/plain": [
       "['23.csv', '22.csv', '08.csv', '20.csv', '21.csv']"
      ]
     },
     "execution_count": 8,
     "metadata": {},
     "output_type": "execute_result"
    }
   ],
   "source": [
    "files[:5]"
   ]
  },
  {
   "cell_type": "markdown",
   "metadata": {},
   "source": [
    "## Making Folders for Data\n",
    "\n",
    "Let's make folders for our data. We will keep all data in directory `data_root_path`.\n",
    "\n",
    "Inside, we will have a folder for each on 29 classes of herbs. Folder names will be two-digit class number. Later I will make a mapping between class number and a name (Chinese, pinyin or English).\n",
    "\n",
    "Below is the list of classes:\n",
    "\n",
    "| ﻿Class \t|  Chinese \t|     Pinyin    \t|      English     \t|           Note          \t|\n",
    "|:-----:\t|:--------:\t|:-------------:\t|:----------------:\t|:-----------------------:\t|\n",
    "|     1 \t| 白菜     \t| bái cài       \t| Chinese cabbage  \t|                         \t|\n",
    "|     2 \t| 菠菜     \t| bō cài        \t| spinach          \t|                         \t|\n",
    "|     3 \t| 菜心     \t| cài xīn       \t| choy sum         \t|                         \t|\n",
    "|     4 \t| 儿菜     \t| ér cài        \t|        ---       \t|                         \t|\n",
    "|     5 \t| 盖菜     \t| gài cài       \t| leaf mustard     \t|                         \t|\n",
    "|     6 \t| 芥蓝     \t| jiè lán       \t| Chinese broccoli \t|                         \t|\n",
    "|     7 \t| 蒿子杆   \t| hāo zǐ gān    \t| Tricolor daisy   \t|                         \t|\n",
    "|     8 \t| 黄心菜   \t| huáng xīn cài \t|        ---       \t|                         \t|\n",
    "|     9 \t| 茴香     \t| huí xiāng     \t| fennel           \t|                         \t|\n",
    "|    10 \t| 鸡毛菜   \t| jī máo cài    \t|        ---       \t|                         \t|\n",
    "|    11 \t| 韭菜     \t| jiǔ cài       \t| garlic chives    \t|                         \t|\n",
    "|    12 \t| 空心菜   \t| kōng xīn cài  \t| water spinach    \t| same as 蕹菜 (wèng cài) \t|\n",
    "|    13 \t| 快菜     \t| kuài cài      \t|        ---       \t|                         \t|\n",
    "|    14 \t| 苦菊     \t| kǔ jú         \t| endive           \t|                         \t|\n",
    "|    15 \t| 芦笋     \t| lú sǔn        \t| asparagus        \t|                         \t|\n",
    "|    16 \t| 芹菜     \t| qín cài xīn   \t| celery           \t|                         \t|\n",
    "|    17 \t| 蒜黄     \t| suàn huáng    \t|        ---       \t|                         \t|\n",
    "|    18 \t| 蒜苔     \t| suàn tái      \t| garlic shoots    \t|                         \t|\n",
    "|    19 \t| 茼蒿菜   \t| tóng hāo cài  \t| crown daisy      \t|                         \t|\n",
    "|    20 \t| 豌豆苗   \t| wān dòu miáo  \t| pea shoots       \t|                         \t|\n",
    "|    21 \t| 莴苣     \t| wō jù         \t| lettuce          \t|                         \t|\n",
    "|    22 \t| 香菜     \t| xiāng cài     \t| cilantro         \t|                         \t|\n",
    "|    23 \t| 香芹     \t| xiāng qín     \t| parsley          \t|                         \t|\n",
    "|    24 \t| 小白菜   \t| xiǎo bái cài  \t| bok choy         \t|                         \t|\n",
    "|    25 \t| 西洋菜   \t| xī yáng cài   \t| watercress       \t|                         \t|\n",
    "|    26 \t| 叶生菜   \t| yè shēng cài  \t| lettuce          \t|                         \t|\n",
    "|    27 \t| 油菜     \t| yóu cài       \t| oilseed rape     \t|                         \t|\n",
    "|    28 \t| 羽衣甘蓝 \t| yǔ yī gān lán \t| kale             \t|                         \t|\n",
    "|    29 \t| 竹笋     \t| zhú sǔn       \t| bamboo shoot     \t|                         \t|"
   ]
  },
  {
   "cell_type": "markdown",
   "metadata": {},
   "source": [
    "Let's check where the data root folder for this project points:"
   ]
  },
  {
   "cell_type": "code",
   "execution_count": 9,
   "metadata": {},
   "outputs": [
    {
     "data": {
      "text/plain": [
       "PosixPath('/Users/fazzl/data/herbs')"
      ]
     },
     "execution_count": 9,
     "metadata": {},
     "output_type": "execute_result"
    }
   ],
   "source": [
    "data_root_path"
   ]
  },
  {
   "cell_type": "markdown",
   "metadata": {},
   "source": [
    "For now the folder doesn't exits, so let's create it:"
   ]
  },
  {
   "cell_type": "code",
   "execution_count": 10,
   "metadata": {},
   "outputs": [],
   "source": [
    "data_root_path.mkdir(exist_ok=True, parents=True)"
   ]
  },
  {
   "cell_type": "code",
   "execution_count": 11,
   "metadata": {},
   "outputs": [
    {
     "data": {
      "text/plain": [
       "True"
      ]
     },
     "execution_count": 11,
     "metadata": {},
     "output_type": "execute_result"
    }
   ],
   "source": [
    "data_root_path.exists()"
   ]
  },
  {
   "cell_type": "markdown",
   "metadata": {},
   "source": [
    "It is an empty folder:"
   ]
  },
  {
   "cell_type": "code",
   "execution_count": 12,
   "metadata": {},
   "outputs": [
    {
     "data": {
      "text/plain": [
       "[PosixPath('/Users/fazzl/data/herbs/03'),\n",
       " PosixPath('/Users/fazzl/data/herbs/04'),\n",
       " PosixPath('/Users/fazzl/data/herbs/05'),\n",
       " PosixPath('/Users/fazzl/data/herbs/02'),\n",
       " PosixPath('/Users/fazzl/data/herbs/20'),\n",
       " PosixPath('/Users/fazzl/data/herbs/18'),\n",
       " PosixPath('/Users/fazzl/data/herbs/27'),\n",
       " PosixPath('/Users/fazzl/data/herbs/11'),\n",
       " PosixPath('/Users/fazzl/data/herbs/29'),\n",
       " PosixPath('/Users/fazzl/data/herbs/16'),\n",
       " PosixPath('/Users/fazzl/data/herbs/28'),\n",
       " PosixPath('/Users/fazzl/data/herbs/17'),\n",
       " PosixPath('/Users/fazzl/data/herbs/10'),\n",
       " PosixPath('/Users/fazzl/data/herbs/19'),\n",
       " PosixPath('/Users/fazzl/data/herbs/26'),\n",
       " PosixPath('/Users/fazzl/data/herbs/21'),\n",
       " PosixPath('/Users/fazzl/data/herbs/07'),\n",
       " PosixPath('/Users/fazzl/data/herbs/09'),\n",
       " PosixPath('/Users/fazzl/data/herbs/08'),\n",
       " PosixPath('/Users/fazzl/data/herbs/01'),\n",
       " PosixPath('/Users/fazzl/data/herbs/06'),\n",
       " PosixPath('/Users/fazzl/data/herbs/24'),\n",
       " PosixPath('/Users/fazzl/data/herbs/23'),\n",
       " PosixPath('/Users/fazzl/data/herbs/15'),\n",
       " PosixPath('/Users/fazzl/data/herbs/12'),\n",
       " PosixPath('/Users/fazzl/data/herbs/13'),\n",
       " PosixPath('/Users/fazzl/data/herbs/14'),\n",
       " PosixPath('/Users/fazzl/data/herbs/22'),\n",
       " PosixPath('/Users/fazzl/data/herbs/25')]"
      ]
     },
     "execution_count": 12,
     "metadata": {},
     "output_type": "execute_result"
    }
   ],
   "source": [
    "data_root_path.ls()"
   ]
  },
  {
   "cell_type": "markdown",
   "metadata": {},
   "source": [
    "Let's populate it with class folders.\n",
    "\n",
    "1. First, we create a folder for each class\n",
    "2. Then, we download images into that folder\n",
    "\n",
    "**Note**: you only need to do it ONCE. To do this, uncomment the cell below."
   ]
  },
  {
   "cell_type": "code",
   "execution_count": 37,
   "metadata": {
    "scrolled": true
   },
   "outputs": [
    {
     "name": "stdout",
     "output_type": "stream",
     "text": [
      "Error https://cdn.101mediaimage.com/img/2017/08/14/17089665012derd.png HTTPSConnectionPool(host='cdn.101mediaimage.com', port=443): Read timed out. (read timeout=4)\n",
      "Error https://images.freeimages.com/images/premium/previews/5146/5146263-cilantro.jpg HTTPSConnectionPool(host='images.freeimages.com', port=443): Max retries exceeded with url: /images/premium/previews/5146/5146263-cilantro.jpg (Caused by ConnectTimeoutError(<urllib3.connection.VerifiedHTTPSConnection object at 0x1a1d6ca0f0>, 'Connection to images.freeimages.com timed out. (connect timeout=4)'))\n",
      "Error http://www.liaotuo.org/uploadfile/2018/0621/20180621032123360.jpg HTTPConnectionPool(host='www.liaotuo.org', port=80): Max retries exceeded with url: /uploadfile/2018/0621/20180621032123360.jpg (Caused by ConnectTimeoutError(<urllib3.connection.HTTPConnection object at 0x1a1d0d1f98>, 'Connection to www.liaotuo.org timed out. (connect timeout=4)'))\n",
      "Error http://www.liaotuo.org/uploadfile/uploads/allimg/131228/14-13122Q03256.jpg HTTPConnectionPool(host='www.liaotuo.org', port=80): Max retries exceeded with url: /uploadfile/uploads/allimg/131228/14-13122Q03256.jpg (Caused by ConnectTimeoutError(<urllib3.connection.HTTPConnection object at 0x1a1d6cafd0>, 'Connection to www.liaotuo.org timed out. (connect timeout=4)'))\n",
      "Error http://www.p5w.net/weyt/201808/W020180827375336161121.jpg HTTPConnectionPool(host='www.p5w.net', port=80): Max retries exceeded with url: /weyt/201808/W020180827375336161121.jpg (Caused by ConnectTimeoutError(<urllib3.connection.HTTPConnection object at 0x1a1d0136d8>, 'Connection to www.p5w.net timed out. (connect timeout=4)'))\n",
      "Error http://pic18.nipic.com/20120105/3541811_164852434115_2.jpg HTTPConnectionPool(host='pic18.nipic.com', port=80): Read timed out. (read timeout=4)\n",
      "Error https://pic2.zhimg.com/80/v2-fe8f8acf391378bfdd0310d01b0fca2d_hd.jpg HTTPSConnectionPool(host='pic2.zhimg.com', port=443): Read timed out. (read timeout=4)\n",
      "Error http://www.bossseed.com/358.jpg HTTPConnectionPool(host='www.bossseed.com', port=80): Max retries exceeded with url: /358.jpg (Caused by NewConnectionError('<urllib3.connection.HTTPConnection object at 0x1a1d0c2d30>: Failed to establish a new connection: [Errno 8] nodename nor servname provided, or not known'))\n",
      "Error http://www.yydnc.com/data/upload/shop/store/goods/1/1_05714179920223483_240.jpg Exceeded 30 redirects.\n",
      "Error http://img.18yangzhi.com/uploadfile/p/2018/10/zX50EE.gif HTTPConnectionPool(host='img.18yangzhi.com', port=80): Max retries exceeded with url: /uploadfile/p/2018/10/zX50EE.gif (Caused by ConnectTimeoutError(<urllib3.connection.HTTPConnection object at 0x1a1d0c2668>, 'Connection to img.18yangzhi.com timed out. (connect timeout=4)'))\n",
      "Error http://www.51faya.net/images/201212/goods_img/2349_P_1356073008107.jpg HTTPConnectionPool(host='www.51faya.net', port=80): Max retries exceeded with url: /images/201212/goods_img/2349_P_1356073008107.jpg (Caused by ConnectTimeoutError(<urllib3.connection.HTTPConnection object at 0x1a1d0c2358>, 'Connection to www.51faya.net timed out. (connect timeout=4)'))\n",
      "Error http://68ny.com/attached/18126111023.jpg HTTPConnectionPool(host='68ny.com', port=80): Max retries exceeded with url: /attached/18126111023.jpg (Caused by ConnectTimeoutError(<urllib3.connection.HTTPConnection object at 0x1a1d7066d8>, 'Connection to 68ny.com timed out. (connect timeout=4)'))\n",
      "Error http://www.maiseed.com/images/201608/goods_img/85_P_1470027473522.jpg HTTPConnectionPool(host='www.maiseed.com', port=80): Read timed out. (read timeout=4)\n",
      "Error https://www.meishic.com/uploadfile/2012/0917/20120917095402496.jpg HTTPSConnectionPool(host='www.meishic.com', port=443): Max retries exceeded with url: /uploadfile/2012/0917/20120917095402496.jpg (Caused by ConnectTimeoutError(<urllib3.connection.VerifiedHTTPSConnection object at 0x1a1d6cb860>, 'Connection to www.meishic.com timed out. (connect timeout=4)'))\n",
      "Error https://inews.gtimg.com/newsapp_bt/0/7039472326/1000 HTTPSConnectionPool(host='inews.gtimg.com', port=443): Read timed out.\n",
      "Error https://inews.gtimg.com/newsapp_bt/0/7039472324/1000 HTTPSConnectionPool(host='inews.gtimg.com', port=443): Read timed out. (read timeout=4)\n",
      "Error http://img.cszoo.org/file/yinshi/tiaoli/2b236a89c091c6db5b6731507f02c00c.jpg HTTPConnectionPool(host='img.cszoo.org', port=80): Max retries exceeded with url: /file/yinshi/tiaoli/2b236a89c091c6db5b6731507f02c00c.jpg (Caused by NewConnectionError('<urllib3.connection.HTTPConnection object at 0x1a1d6e4898>: Failed to establish a new connection: [Errno 8] nodename nor servname provided, or not known'))\n",
      "Error https://www.huabaike.com/uploads/allimg/sltimg/201705/5919509514542.jpg HTTPSConnectionPool(host='www.huabaike.com', port=443): Max retries exceeded with url: /uploads/allimg/sltimg/201705/5919509514542.jpg (Caused by ConnectTimeoutError(<urllib3.connection.VerifiedHTTPSConnection object at 0x1a1d6ca080>, 'Connection to www.huabaike.com timed out. (connect timeout=4)'))\n",
      "Error http://img.shipu.cm/uploads/20170516/s33ebhyg4x4.jpg HTTPConnectionPool(host='img.shipu.cm', port=80): Max retries exceeded with url: /uploads/20170516/s33ebhyg4x4.jpg (Caused by NewConnectionError('<urllib3.connection.HTTPConnection object at 0x1a1d6f15f8>: Failed to establish a new connection: [Errno 8] nodename nor servname provided, or not known'))\n",
      "Error https://www.huabaike.com/uploads/allimg/artimg/201705/20170515145817_93108.jpg HTTPSConnectionPool(host='www.huabaike.com', port=443): Max retries exceeded with url: /uploads/allimg/artimg/201705/20170515145817_93108.jpg (Caused by ConnectTimeoutError(<urllib3.connection.VerifiedHTTPSConnection object at 0x1a1d6f1128>, 'Connection to www.huabaike.com timed out. (connect timeout=4)'))\n",
      "Error http://www.5icaipu.com/uploadfile/2018/04/dWju5WkptD66FabfebCSFjYtMwFGb6EY.jpg HTTPConnectionPool(host='www.5icaipu.com', port=80): Read timed out. (read timeout=4)\n",
      "Error https://www.huabaike.com/uploads/allimg/artimg/201705/20170515153422_63588.jpg HTTPSConnectionPool(host='www.huabaike.com', port=443): Max retries exceeded with url: /uploads/allimg/artimg/201705/20170515153422_63588.jpg (Caused by ConnectTimeoutError(<urllib3.connection.VerifiedHTTPSConnection object at 0x1a1d013e48>, 'Connection to www.huabaike.com timed out. (connect timeout=4)'))\n",
      "Error https://www.huabaike.com/uploads/allimg/sltimg/201705/591954079733a.jpg HTTPSConnectionPool(host='www.huabaike.com', port=443): Max retries exceeded with url: /uploads/allimg/sltimg/201705/591954079733a.jpg (Caused by ConnectTimeoutError(<urllib3.connection.VerifiedHTTPSConnection object at 0x1a1d6e4160>, 'Connection to www.huabaike.com timed out. (connect timeout=4)'))\n",
      "Error https://pic.pingguolv.com/uploads/allimg/160705/77-160F5154915.jpg HTTPSConnectionPool(host='pic.pingguolv.com', port=443): Max retries exceeded with url: /uploads/allimg/160705/77-160F5154915.jpg (Caused by ConnectTimeoutError(<urllib3.connection.VerifiedHTTPSConnection object at 0x1a1d6cab00>, 'Connection to pic.pingguolv.com timed out. (connect timeout=4)'))\n",
      "Error https://www.huabaike.com/uploads/allimg/sltimg/201809/bp_5b97abc1ade1b.jpg HTTPSConnectionPool(host='www.huabaike.com', port=443): Max retries exceeded with url: /uploads/allimg/sltimg/201809/bp_5b97abc1ade1b.jpg (Caused by ConnectTimeoutError(<urllib3.connection.VerifiedHTTPSConnection object at 0x1a1d6f1518>, 'Connection to www.huabaike.com timed out. (connect timeout=4)'))\n",
      "Error https://www.uooyoo.com/img2016/5/29/2016052942646437.jpg HTTPSConnectionPool(host='www.uooyoo.com', port=443): Read timed out. (read timeout=4)\n",
      "Error http://www.hfsxx.com/uploads/allimg/160104/892-1601041I0420-L.jpg ('Connection aborted.', RemoteDisconnected('Remote end closed connection without response'))\n",
      "Error https://image.tech-food.com/images/kndata/bpic/201708/20170808144345_3784.jpg HTTPSConnectionPool(host='image.tech-food.com', port=443): Max retries exceeded with url: /images/kndata/bpic/201708/20170808144345_3784.jpg (Caused by ConnectTimeoutError(<urllib3.connection.VerifiedHTTPSConnection object at 0x1a1d6d0898>, 'Connection to image.tech-food.com timed out. (connect timeout=4)'))\n",
      "Error http://www.chinabaike.com/uploads/allimg/151123/1S6456028-0.jpg HTTPConnectionPool(host='www.chinabaike.com', port=80): Read timed out. (read timeout=4)\n"
     ]
    },
    {
     "name": "stdout",
     "output_type": "stream",
     "text": [
      "Error http://pic.qqtn.com/up/2017-3/201703271030597872740.png HTTPConnectionPool(host='pic.qqtn.com', port=80): Max retries exceeded with url: /up/2017-3/201703271030597872740.png (Caused by ConnectTimeoutError(<urllib3.connection.HTTPConnection object at 0x1a1d6e6518>, 'Connection to pic.qqtn.com timed out. (connect timeout=4)'))\n",
      "Error https://cp1.douguo.com/upload/caiku/5/3/c/yuan_53a65197918e28a61e45b2e5b4e100fc.jpg HTTPSConnectionPool(host='cp1.douguo.com', port=443): Read timed out. (read timeout=4)\n",
      "Error https://pic.pingguolv.com/uploads/allimg/151116/99-151116205R1.jpg HTTPSConnectionPool(host='pic.pingguolv.com', port=443): Max retries exceeded with url: /uploads/allimg/151116/99-151116205R1.jpg (Caused by ConnectTimeoutError(<urllib3.connection.VerifiedHTTPSConnection object at 0x1a1d6d0828>, 'Connection to pic.pingguolv.com timed out. (connect timeout=4)'))\n",
      "Error https://s.yimg.com/ny/api/res/1.2/SOd9jQz8APeUAc8VE0LFUw--~A/YXBwaWQ9aGlnaGxhbmRlcjtzbT0xO3c9ODAw/https://media-mbst-pub-ue1.s3.amazonaws.com/creatr-uploaded-images/2018-11/5f439c20-f444-11e8-b5f4-2d534b4b1989 HTTPSConnectionPool(host='s.yimg.com', port=443): Read timed out. (read timeout=4)\n",
      "Error https://img.ruten.com.tw/s2/7/68/00/21303219613696_246.jpg ('Connection aborted.', OSError(\"(54, 'ECONNRESET')\"))\n",
      "Error http://www.meishic.com/uploadfile/2012/0413/20120413121426780.jpg HTTPConnectionPool(host='www.meishic.com', port=80): Max retries exceeded with url: /uploadfile/2012/0413/20120413121426780.jpg (Caused by ConnectTimeoutError(<urllib3.connection.HTTPConnection object at 0x1a1d6f4048>, 'Connection to www.meishic.com timed out. (connect timeout=4)'))\n",
      "Error https://img.ruten.com.tw/s1/7/35/c1/21810749155777_465.jpg ('Connection aborted.', OSError(\"(54, 'ECONNRESET')\"))\n",
      "Error http://www.healthywriter.com/wp-content/uploads/2012/12/dill.jpg HTTPConnectionPool(host='www.healthywriter.com', port=80): Max retries exceeded with url: /wp-content/uploads/2012/12/dill.jpg (Caused by NewConnectionError('<urllib3.connection.HTTPConnection object at 0x1a1d6fb908>: Failed to establish a new connection: [Errno 8] nodename nor servname provided, or not known'))\n",
      "Error https://img.ruten.com.tw/s1/8/80/5d/21809724002397_741.jpg ('Connection aborted.', OSError(\"(54, 'ECONNRESET')\"))\n",
      "Error https://cosdanshop.com/wp-content/uploads/2018/05/%E6%B3%95%E5%9C%8B%E6%B5%B7%E8%8C%B4%E9%A6%99%E7%A5%9E%E7%B6%93%E9%86%AF%E8%83%BA%E7%B2%BE%E8%8F%AF3.jpg HTTPSConnectionPool(host='cosdanshop.com', port=443): Max retries exceeded with url: /wp-content/uploads/2018/05/%E6%B3%95%E5%9C%8B%E6%B5%B7%E8%8C%B4%E9%A6%99%E7%A5%9E%E7%B6%93%E9%86%AF%E8%83%BA%E7%B2%BE%E8%8F%AF3.jpg (Caused by NewConnectionError('<urllib3.connection.VerifiedHTTPSConnection object at 0x1a1d6fb0f0>: Failed to establish a new connection: [Errno 8] nodename nor servname provided, or not known'))\n",
      "Error https://img.ruten.com.tw/s1/9/05/91/21620737740177_14.jpg HTTPSConnectionPool(host='img.ruten.com.tw', port=443): Max retries exceeded with url: /s1/9/05/91/21620737740177_14.jpg (Caused by ConnectTimeoutError(<urllib3.connection.VerifiedHTTPSConnection object at 0x1a1d6fb240>, 'Connection to img.ruten.com.tw timed out. (connect timeout=4)'))\n",
      "Error https://a.rimg.com.tw/s1/1/92/ef/21108270222063_108_m.jpg ('Connection aborted.', OSError(\"(54, 'ECONNRESET')\"))\n",
      "Error https://a.rimg.com.tw/s1/9/fc/3f/21408076786751_721_m.jpg ('Connection aborted.', OSError(\"(54, 'ECONNRESET')\"))\n",
      "Error https://i.zgjm.org/uploads/allimg/140618/1_140618151516_1.jpg HTTPSConnectionPool(host='i.zgjm.org', port=443): Max retries exceeded with url: /uploads/allimg/140618/1_140618151516_1.jpg (Caused by ConnectTimeoutError(<urllib3.connection.VerifiedHTTPSConnection object at 0x1a1d6fbba8>, 'Connection to i.zgjm.org timed out. (connect timeout=4)'))\n",
      "Error https://a.rimg.com.tw/s1/2/1d/11/21732901548305_122_m.jpg ('Connection aborted.', OSError(\"(54, 'ECONNRESET')\"))\n",
      "Error https://img.shop.com/Image/270000/270000/270011/products/1719682561.jpg HTTPSConnectionPool(host='img.shop.com', port=443): Read timed out. (read timeout=4)\n",
      "Error https://i8.meishichina.com/attachment/recipe/2013/12/07/20131207145555924236255.jpg?x-oss-process=style/p800 HTTPSConnectionPool(host='i8.meishichina.com', port=443): Max retries exceeded with url: /attachment/recipe/2013/12/07/20131207145555924236255.jpg?x-oss-process=style/p800 (Caused by ConnectTimeoutError(<urllib3.connection.VerifiedHTTPSConnection object at 0x1a1d6e7d30>, 'Connection to i8.meishichina.com timed out. (connect timeout=4)'))\n",
      "Error https://i8.meishichina.com/attachment/recipe/2015/01/30/201501300047017a927e48c3.jpg?x-oss-process=style/p800 HTTPSConnectionPool(host='i8.meishichina.com', port=443): Max retries exceeded with url: /attachment/recipe/2015/01/30/201501300047017a927e48c3.jpg?x-oss-process=style/p800 (Caused by ConnectTimeoutError(<urllib3.connection.VerifiedHTTPSConnection object at 0x1a1d6e49b0>, 'Connection to i8.meishichina.com timed out. (connect timeout=4)'))\n",
      "Error https://i8.meishichina.com/attachment/r/2012/05/26/20120526174159779745274.jpg?x-oss-process=style/p800 HTTPSConnectionPool(host='i8.meishichina.com', port=443): Max retries exceeded with url: /attachment/r/2012/05/26/20120526174159779745274.jpg?x-oss-process=style/p800 (Caused by ConnectTimeoutError(<urllib3.connection.VerifiedHTTPSConnection object at 0x1a1d013208>, 'Connection to i8.meishichina.com timed out. (connect timeout=4)'))\n",
      "Error https://static1.squarespace.com/static/536aa794e4b03ee65fc9e2c4/t/57349cf37da24f451fdd7a4c/1463065851515/Watercress+Parsley+Pesto HTTPSConnectionPool(host='static1.squarespace.com', port=443): Read timed out. (read timeout=4)\n",
      "Error https://www.instawares.com/products/K/KOP-Watercress8oz_full.jpg HTTPSConnectionPool(host='www.instawares.com', port=443): Max retries exceeded with url: /products/K/KOP-Watercress8oz_full.jpg (Caused by ConnectTimeoutError(<urllib3.connection.VerifiedHTTPSConnection object at 0x1a1d706208>, 'Connection to www.instawares.com timed out. (connect timeout=4)'))\n",
      "Error https://nickyclinch.com/wp-content/uploads/2016/05/Green-Pea-Quinoa-Fusilli-with-Watercress-Coconut-Pesto-02.jpg HTTPSConnectionPool(host='nickyclinch.com', port=443): Read timed out. (read timeout=4)\n",
      "Error https://www.uooyoo.com/img2018/1/14/2018011461972453.png HTTPSConnectionPool(host='www.uooyoo.com', port=443): Read timed out. (read timeout=4)\n",
      "Error https://www.supermarket.com.tw/Content/images/%E8%8C%BC%E8%92%BF1.jpg HTTPSConnectionPool(host='www.supermarket.com.tw', port=443): Max retries exceeded with url: /Content/images/%E8%8C%BC%E8%92%BF1.jpg (Caused by ConnectTimeoutError(<urllib3.connection.VerifiedHTTPSConnection object at 0x1a1d013470>, 'Connection to www.supermarket.com.tw timed out. (connect timeout=4)'))\n",
      "Error http://www.supermarket.com.tw/Content/images/news3/201505210937186220331.jpg HTTPConnectionPool(host='www.supermarket.com.tw', port=80): Max retries exceeded with url: /Content/images/news3/201505210937186220331.jpg (Caused by ConnectTimeoutError(<urllib3.connection.HTTPConnection object at 0x1a1d013198>, 'Connection to www.supermarket.com.tw timed out. (connect timeout=4)'))\n",
      "Error https://img.ruten.com.tw/s1/7/4b/9b/21636523669403_213.jpg ('Connection aborted.', OSError(\"(54, 'ECONNRESET')\"))\n",
      "Error https://img.ruten.com.tw/s1/1/25/2d/21711534141741_942.jpg ('Connection aborted.', OSError(\"(54, 'ECONNRESET')\"))\n",
      "Error https://img.ruten.com.tw/s1/4/02/23/21720307495459_107.jpg ('Connection aborted.', OSError(\"(54, 'ECONNRESET')\"))\n",
      "Error http://images.meishij.net/p/20110707/439666af2bfceba0fe332a5320955ea8_180x180.jpg HTTPConnectionPool(host='images.meishij.net', port=80): Max retries exceeded with url: /p/20110707/439666af2bfceba0fe332a5320955ea8_180x180.jpg (Caused by ConnectTimeoutError(<urllib3.connection.HTTPConnection object at 0x1a1d013588>, 'Connection to images.meishij.net timed out. (connect timeout=4)'))\n",
      "Error http://s1.ig.meishij.net/p/20090717/6637586297fa7a51e3c2d05486d56de7.jpg HTTPConnectionPool(host='s1.ig.meishij.net', port=80): Max retries exceeded with url: /p/20090717/6637586297fa7a51e3c2d05486d56de7.jpg (Caused by ConnectTimeoutError(<urllib3.connection.HTTPConnection object at 0x1a1d013b38>, 'Connection to s1.ig.meishij.net timed out. (connect timeout=4)'))\n"
     ]
    },
    {
     "name": "stdout",
     "output_type": "stream",
     "text": [
      "Error https://i8.meishichina.com/attachment/recipe/201102/201102181153375.jpg?x-oss-process=style/p800 HTTPSConnectionPool(host='i8.meishichina.com', port=443): Max retries exceeded with url: /attachment/recipe/201102/201102181153375.jpg?x-oss-process=style/p800 (Caused by ConnectTimeoutError(<urllib3.connection.VerifiedHTTPSConnection object at 0x1a1d6fb940>, 'Connection to i8.meishichina.com timed out. (connect timeout=4)'))\n",
      "Error https://img.ruten.com.tw/s1/a/9b/57/21717033494359_943.JPG ('Connection aborted.', OSError(\"(54, 'ECONNRESET')\"))\n",
      "Error https://i8.meishichina.com/attachment/recipe/2013/03/19/20130319105729375480972.jpg?x-oss-process=style/p800 HTTPSConnectionPool(host='i8.meishichina.com', port=443): Max retries exceeded with url: /attachment/recipe/2013/03/19/20130319105729375480972.jpg?x-oss-process=style/p800 (Caused by ConnectTimeoutError(<urllib3.connection.VerifiedHTTPSConnection object at 0x1a1d013cf8>, 'Connection to i8.meishichina.com timed out. (connect timeout=4)'))\n",
      "Error http://163.21.6.4/lt/gallery/35/IMG_2492.JPG HTTPConnectionPool(host='163.21.6.4', port=80): Max retries exceeded with url: /lt/gallery/35/IMG_2492.JPG (Caused by ConnectTimeoutError(<urllib3.connection.HTTPConnection object at 0x1a1d013a20>, 'Connection to 163.21.6.4 timed out. (connect timeout=4)'))\n",
      "Error http://img3.meichubang.com/d/file/201705/16/70e1dc05411bc8bbce9ace0b55db0a21.jpg HTTPConnectionPool(host='img3.meichubang.com', port=80): Read timed out. (read timeout=4)\n",
      "Error https://www.uooyoo.com/img2017/3/17/2017031735525969.jpg HTTPSConnectionPool(host='www.uooyoo.com', port=443): Read timed out. (read timeout=4)\n",
      "Error https://i8.meishichina.com/attachment/recipe/2016/11/08/2016110814785713537109823148.jpg?x-oss-process=style/p800 HTTPSConnectionPool(host='i8.meishichina.com', port=443): Max retries exceeded with url: /attachment/recipe/2016/11/08/2016110814785713537109823148.jpg?x-oss-process=style/p800 (Caused by ConnectTimeoutError(<urllib3.connection.VerifiedHTTPSConnection object at 0x1a1d6deac8>, 'Connection to i8.meishichina.com timed out. (connect timeout=4)'))\n",
      "Error https://i8.meishichina.com/attachment/recipe/2016/12/25/2016122514826502770139922597.jpg?x-oss-process=style/p800 HTTPSConnectionPool(host='i8.meishichina.com', port=443): Max retries exceeded with url: /attachment/recipe/2016/12/25/2016122514826502770139922597.jpg?x-oss-process=style/p800 (Caused by ConnectTimeoutError(<urllib3.connection.VerifiedHTTPSConnection object at 0x1a1d6de8d0>, 'Connection to i8.meishichina.com timed out. (connect timeout=4)'))\n",
      "Error http://163.21.6.4/lt/gallery/35/IMG_2478.JPG HTTPConnectionPool(host='163.21.6.4', port=80): Max retries exceeded with url: /lt/gallery/35/IMG_2478.JPG (Caused by ConnectTimeoutError(<urllib3.connection.HTTPConnection object at 0x1a1d6ec278>, 'Connection to 163.21.6.4 timed out. (connect timeout=4)'))\n",
      "Error http://upload4.95171.cn/albumpicimages/20161205/H10F05W05500/26030fe2-8b0a-4f35-a2a8-97f541a7ca78.jpg HTTPConnectionPool(host='upload4.95171.cn', port=80): Max retries exceeded with url: /albumpicimages/20161205/H10F05W05500/26030fe2-8b0a-4f35-a2a8-97f541a7ca78.jpg (Caused by ConnectTimeoutError(<urllib3.connection.HTTPConnection object at 0x1a1d6fb128>, 'Connection to upload4.95171.cn timed out. (connect timeout=4)'))\n",
      "Error https://i.wiki6.com/upload/a/62/a625018df80ca6b7621db011b6d74388_thumb.jpg HTTPSConnectionPool(host='i.wiki6.com', port=443): Read timed out. (read timeout=4)\n",
      "Error https://img.ruten.com.tw/s2/e/fc/70/21637613643888_76.jpg ('Connection aborted.', OSError(\"(54, 'ECONNRESET')\"))\n",
      "Error http://images.meishij.net/p/20120215/011119f6e69dc7657e8b7b6e795566e9.jpg HTTPConnectionPool(host='images.meishij.net', port=80): Max retries exceeded with url: /p/20120215/011119f6e69dc7657e8b7b6e795566e9.jpg (Caused by ConnectTimeoutError(<urllib3.connection.HTTPConnection object at 0x1a1d6fb128>, 'Connection to images.meishij.net timed out. (connect timeout=4)'))\n",
      "Error http://upload1.95171.cn/Topics/20110929/AESH10014013/472fdc64-7c92-45e4-98a8-00c2147b3806.jpg HTTPConnectionPool(host='upload1.95171.cn', port=80): Max retries exceeded with url: /Topics/20110929/AESH10014013/472fdc64-7c92-45e4-98a8-00c2147b3806.jpg (Caused by ConnectTimeoutError(<urllib3.connection.HTTPConnection object at 0x1a1d6fb0f0>, 'Connection to upload1.95171.cn timed out. (connect timeout=4)'))\n",
      "Error http://www.laoganma.com.cn/GoodsImages/201709213a63ba30-fde6-49d8-811f-c72c2245b182.jpg HTTPConnectionPool(host='www.laoganma.com.cn', port=80): Max retries exceeded with url: /GoodsImages/201709213a63ba30-fde6-49d8-811f-c72c2245b182.jpg (Caused by ConnectTimeoutError(<urllib3.connection.HTTPConnection object at 0x1a1d013198>, 'Connection to www.laoganma.com.cn timed out. (connect timeout=4)'))\n",
      "Error http://163.21.6.4/lt/gallery/35/IMG_4527.JPG HTTPConnectionPool(host='163.21.6.4', port=80): Max retries exceeded with url: /lt/gallery/35/IMG_4527.JPG (Caused by ConnectTimeoutError(<urllib3.connection.HTTPConnection object at 0x1a1d6ec8d0>, 'Connection to 163.21.6.4 timed out. (connect timeout=4)'))\n",
      "Error https://p.ssl.qhimg.com/t01b5aedeebe35a2809.jpg?size=750x500 HTTPSConnectionPool(host='p.ssl.qhimg.com', port=443): Read timed out. (read timeout=4)\n",
      "Error http://www.ss998.com/uploads/allimg/100905/16124433H-5.jpg HTTPConnectionPool(host='www.ss998.com', port=80): Read timed out.\n",
      "Error https://static.cndzys.com/20161202/82e9434816cd9d326d6d970773dfa22f.jpg HTTPSConnectionPool(host='static.cndzys.com', port=443): Max retries exceeded with url: /20161202/82e9434816cd9d326d6d970773dfa22f.jpg (Caused by ConnectTimeoutError(<urllib3.connection.VerifiedHTTPSConnection object at 0x1a1d6de6d8>, 'Connection to static.cndzys.com timed out. (connect timeout=4)'))\n",
      "Error https://p1.ssl.qhmsg.com/t01990aed844fba3827.jpg HTTPSConnectionPool(host='p1.ssl.qhmsg.com', port=443): Read timed out. (read timeout=4)\n",
      "Error https://i7.meishichina.com/Eat/UploadFiles1017/200901/2009010708454536.jpg HTTPSConnectionPool(host='i7.meishichina.com', port=443): Max retries exceeded with url: /Eat/UploadFiles1017/200901/2009010708454536.jpg (Caused by ConnectTimeoutError(<urllib3.connection.VerifiedHTTPSConnection object at 0x1a1d6e72e8>, 'Connection to i7.meishichina.com timed out. (connect timeout=4)'))\n",
      "Error http://163.21.6.4/lt/gallery/35/IMG_4525.JPG HTTPConnectionPool(host='163.21.6.4', port=80): Max retries exceeded with url: /lt/gallery/35/IMG_4525.JPG (Caused by ConnectTimeoutError(<urllib3.connection.HTTPConnection object at 0x1a1d6e4d30>, 'Connection to 163.21.6.4 timed out. (connect timeout=4)'))\n",
      "Error https://static.cndzys.com/20161018/88d32609f63dfe72b84df0f76412f595.jpg HTTPSConnectionPool(host='static.cndzys.com', port=443): Max retries exceeded with url: /20161018/88d32609f63dfe72b84df0f76412f595.jpg (Caused by ConnectTimeoutError(<urllib3.connection.VerifiedHTTPSConnection object at 0x1a1d6fbc50>, 'Connection to static.cndzys.com timed out. (connect timeout=4)'))\n",
      "Error https://cp1.douguo.com/upload/caiku/0/a/d/yuan_0a9fbfc9cf6caffb1f06ec387425e1fd.jpg HTTPSConnectionPool(host='cp1.douguo.com', port=443): Read timed out. (read timeout=4)\n",
      "Error http://images.meishij.net/p/20120215/5213d0c4839aadb72b8e303df3a02d00.jpg HTTPConnectionPool(host='images.meishij.net', port=80): Max retries exceeded with url: /p/20120215/5213d0c4839aadb72b8e303df3a02d00.jpg (Caused by ConnectTimeoutError(<urllib3.connection.HTTPConnection object at 0x1a1d0130f0>, 'Connection to images.meishij.net timed out. (connect timeout=4)'))\n",
      "Error http://dshbuy.lodoeshop.com/images/goods/center/2016-10-28/%E8%92%9C%E8%8B%973.jpg HTTPConnectionPool(host='dshbuy.lodoeshop.com', port=80): Max retries exceeded with url: /images/goods/center/2016-10-28/%E8%92%9C%E8%8B%973.jpg (Caused by ConnectTimeoutError(<urllib3.connection.HTTPConnection object at 0x1a1d6e65c0>, 'Connection to dshbuy.lodoeshop.com timed out. (connect timeout=4)'))\n",
      "Error https://pic1.zhimg.com/v2-64b18e585b7999616226cfa126686268_b.jpg HTTPSConnectionPool(host='pic1.zhimg.com', port=443): Read timed out. (read timeout=4)\n",
      "Error http://images.meishij.net/p/20111208/413e714261337e988059210b32530b2e_180x180.jpg HTTPConnectionPool(host='images.meishij.net', port=80): Max retries exceeded with url: /p/20111208/413e714261337e988059210b32530b2e_180x180.jpg (Caused by ConnectTimeoutError(<urllib3.connection.HTTPConnection object at 0x1a1d0d1f98>, 'Connection to images.meishij.net timed out. (connect timeout=4)'))\n"
     ]
    },
    {
     "name": "stdout",
     "output_type": "stream",
     "text": [
      "Error https://pic.pingguolv.com/uploads/allimg/180202/77-1P202145935.jpg HTTPSConnectionPool(host='pic.pingguolv.com', port=443): Max retries exceeded with url: /uploads/allimg/180202/77-1P202145935.jpg (Caused by ConnectTimeoutError(<urllib3.connection.VerifiedHTTPSConnection object at 0x1a1d6e6710>, 'Connection to pic.pingguolv.com timed out. (connect timeout=4)'))\n",
      "Error http://images.meishij.net/p/20120601/de8c0b640f4857240ff5b8d432b60ac0_150x150.jpg HTTPConnectionPool(host='images.meishij.net', port=80): Max retries exceeded with url: /p/20120601/de8c0b640f4857240ff5b8d432b60ac0_150x150.jpg (Caused by ConnectTimeoutError(<urllib3.connection.HTTPConnection object at 0x1a1d6e65c0>, 'Connection to images.meishij.net timed out. (connect timeout=4)'))\n",
      "Error http://qiniu.69cy.net/20170324093047815.jpg HTTPConnectionPool(host='qiniu.69cy.net', port=80): Max retries exceeded with url: /20170324093047815.jpg (Caused by ConnectTimeoutError(<urllib3.connection.HTTPConnection object at 0x1a1d6e6320>, 'Connection to qiniu.69cy.net timed out. (connect timeout=4)'))\n",
      "Error http://images.meishij.net/p/20120927/0b7a708b3899f9fd437d71db0ded64a8.jpg HTTPConnectionPool(host='images.meishij.net', port=80): Max retries exceeded with url: /p/20120927/0b7a708b3899f9fd437d71db0ded64a8.jpg (Caused by ConnectTimeoutError(<urllib3.connection.HTTPConnection object at 0x1a1d706860>, 'Connection to images.meishij.net timed out. (connect timeout=4)'))\n",
      "Error http://foodqs.cn/memberpictures/2012/04/05/QQ419052246_201204050831533630.jpg HTTPConnectionPool(host='foodqs.cn', port=80): Max retries exceeded with url: /memberpictures/2012/04/05/QQ419052246_201204050831533630.jpg (Caused by ConnectTimeoutError(<urllib3.connection.HTTPConnection object at 0x1a1d6cb828>, 'Connection to foodqs.cn timed out. (connect timeout=4)'))\n",
      "Error http://www.xcnx.net.cn/upload/2013_07/13072310535837.jpg HTTPConnectionPool(host='www.xcnx.net.cn', port=80): Max retries exceeded with url: /upload/2013_07/13072310535837.jpg (Caused by ConnectTimeoutError(<urllib3.connection.HTTPConnection object at 0x1a1d7060f0>, 'Connection to www.xcnx.net.cn timed out. (connect timeout=4)'))\n",
      "Error https://book.tndais.gov.tw/Brochure/images/tech101/tech101p8.jpg HTTPSConnectionPool(host='book.tndais.gov.tw', port=443): Max retries exceeded with url: /Brochure/images/tech101/tech101p8.jpg (Caused by ConnectTimeoutError(<urllib3.connection.VerifiedHTTPSConnection object at 0x1a1d0c29e8>, 'Connection to book.tndais.gov.tw timed out. (connect timeout=4)'))\n",
      "Error http://images.meishij.net/p/20121018/37c4e1443e5ed8e3f22ae03a8a53dc2a_150x150.jpg HTTPConnectionPool(host='images.meishij.net', port=80): Max retries exceeded with url: /p/20121018/37c4e1443e5ed8e3f22ae03a8a53dc2a_150x150.jpg (Caused by ConnectTimeoutError(<urllib3.connection.HTTPConnection object at 0x1a1d6e6a90>, 'Connection to images.meishij.net timed out. (connect timeout=4)'))\n",
      "Error http://s2.r.bixuda.com/a0/recipe/l/12/a7/239378_0fe092.jpg HTTPConnectionPool(host='s2.r.bixuda.com', port=80): Read timed out. (read timeout=4)\n",
      "Error http://chinabaike.com/article/UploadPic/2007-10/2007102111341349.jpg HTTPConnectionPool(host='chinabaike.com', port=80): Read timed out. (read timeout=4)\n",
      "Error http://images.meishij.net/p/20100920/28b511009e500d678602d14110bfdde9_150x150.jpg HTTPConnectionPool(host='images.meishij.net', port=80): Max retries exceeded with url: /p/20100920/28b511009e500d678602d14110bfdde9_150x150.jpg (Caused by ConnectTimeoutError(<urllib3.connection.HTTPConnection object at 0x1a1d0c21d0>, 'Connection to images.meishij.net timed out. (connect timeout=4)'))\n",
      "Error http://m.360buyimg.com/pop/jfs/t22663/42/1731663712/39604/c860cf49/5b695cd2N880f3c4a.jpg HTTPConnectionPool(host='m.360buyimg.com', port=80): Read timed out. (read timeout=4)\n",
      "Error http://www.cysqshw.com/uploads/allimg/180323/1342345C0-0.jpg HTTPConnectionPool(host='www.cysqshw.com', port=80): Read timed out. (read timeout=4)\n",
      "Error http://img.007swz.com/cpimg/qitaxinxianshucai/m8YGHEV6Of_1270989486.jpg HTTPConnectionPool(host='img.007swz.com', port=80): Max retries exceeded with url: /cpimg/qitaxinxianshucai/m8YGHEV6Of_1270989486.jpg (Caused by ConnectTimeoutError(<urllib3.connection.HTTPConnection object at 0x1a1d706320>, 'Connection to img.007swz.com timed out. (connect timeout=4)'))\n",
      "Error http://images.meishij.net/p/20120224/ee3b4b853a890686d84c2447518b48c1_150x150.jpg HTTPConnectionPool(host='images.meishij.net', port=80): Max retries exceeded with url: /p/20120224/ee3b4b853a890686d84c2447518b48c1_150x150.jpg (Caused by ConnectTimeoutError(<urllib3.connection.HTTPConnection object at 0x1a1d706748>, 'Connection to images.meishij.net timed out. (connect timeout=4)'))\n",
      "Error http://chinese-cooking-club.com/photos/pandaswife/2016_Food/Food_20160613_0004.jpg HTTPConnectionPool(host='chinese-cooking-club.com', port=80): Read timed out. (read timeout=4)\n",
      "Error http://chinese-cooking-club.com/photos/pandaswife/2016_Food/Food_20160621_0009.jpg HTTPConnectionPool(host='chinese-cooking-club.com', port=80): Max retries exceeded with url: /photos/pandaswife/2016_Food/Food_20160621_0009.jpg (Caused by ConnectTimeoutError(<urllib3.connection.HTTPConnection object at 0x1a1d6e66d8>, 'Connection to chinese-cooking-club.com timed out. (connect timeout=4)'))\n",
      "Error http://res.hoto.cn/5af528fc0135db15049a9c06.jpg!default HTTPConnectionPool(host='res.hoto.cn', port=80): Max retries exceeded with url: /5af528fc0135db15049a9c06.jpg!default (Caused by ConnectTimeoutError(<urllib3.connection.HTTPConnection object at 0x1a1d0c26d8>, 'Connection to res.hoto.cn timed out. (connect timeout=4)'))\n",
      "Error http://images.meishij.net/p/20100817/e4581b1aafa3b05ca7afb2377ddb1069.jpg HTTPConnectionPool(host='images.meishij.net', port=80): Max retries exceeded with url: /p/20100817/e4581b1aafa3b05ca7afb2377ddb1069.jpg (Caused by ConnectTimeoutError(<urllib3.connection.HTTPConnection object at 0x1a1d6e6048>, 'Connection to images.meishij.net timed out. (connect timeout=4)'))\n",
      "Error http://images.meishij.net/p/20140423/b8a4f14c74d4c9c155d2f79274d36c9a.jpg HTTPConnectionPool(host='images.meishij.net', port=80): Max retries exceeded with url: /p/20140423/b8a4f14c74d4c9c155d2f79274d36c9a.jpg (Caused by ConnectTimeoutError(<urllib3.connection.HTTPConnection object at 0x1a1d6f44a8>, 'Connection to images.meishij.net timed out. (connect timeout=4)'))\n",
      "Error http://s1.ig.meishij.net/p/20130710/b3fef978150b0be24506366b6b81adfa_150x150.jpg HTTPConnectionPool(host='s1.ig.meishij.net', port=80): Max retries exceeded with url: /p/20130710/b3fef978150b0be24506366b6b81adfa_150x150.jpg (Caused by ConnectTimeoutError(<urllib3.connection.HTTPConnection object at 0x1a1d0c2d68>, 'Connection to s1.ig.meishij.net timed out. (connect timeout=4)'))\n",
      "Error http://images.meishij.net/p/20100813/5620eae4e94559b4aed064456d4872dd_150x150.jpg HTTPConnectionPool(host='images.meishij.net', port=80): Max retries exceeded with url: /p/20100813/5620eae4e94559b4aed064456d4872dd_150x150.jpg (Caused by ConnectTimeoutError(<urllib3.connection.HTTPConnection object at 0x1a1d6cbcf8>, 'Connection to images.meishij.net timed out. (connect timeout=4)'))\n",
      "Error https://img.ruten.com.tw/s2/2/cb/ca/21721366477770_846.jpg ('Connection aborted.', OSError(\"(54, 'ECONNRESET')\"))\n",
      "Error https://www.uooyoo.com/img2017/9/8/2017090853159205.jpg HTTPSConnectionPool(host='www.uooyoo.com', port=443): Read timed out. (read timeout=4)\n",
      "Error http://img.dodocook.com/user_upload/recipe/1/54/63/recipe_0055463_600_fit_1408467259.jpg HTTPConnectionPool(host='img.dodocook.com', port=80): Max retries exceeded with url: /user_upload/recipe/1/54/63/recipe_0055463_600_fit_1408467259.jpg (Caused by NewConnectionError('<urllib3.connection.HTTPConnection object at 0x1a1d6d0ac8>: Failed to establish a new connection: [Errno 8] nodename nor servname provided, or not known'))\n",
      "Error http://kids.coa.gov.tw/upload/images/web_articles/coa/18295/01.jpg HTTPSConnectionPool(host='kids.coa.gov.tw', port=443): Read timed out. (read timeout=4)\n",
      "Error http://www.cq67.com/uploads/xiaotu/159300.jpg HTTPConnectionPool(host='www.cq67.com', port=80): Read timed out. (read timeout=4)\n",
      "Error http://z.abang.com/d/rabbit/1/3/-/0/-/-/DC-xiaobaicai.jpg HTTPConnectionPool(host='z.abang.com', port=80): Max retries exceeded with url: /d/rabbit/1/3/-/0/-/-/DC-xiaobaicai.jpg (Caused by NewConnectionError('<urllib3.connection.HTTPConnection object at 0x1a1d6fb908>: Failed to establish a new connection: [Errno 8] nodename nor servname provided, or not known'))\n"
     ]
    },
    {
     "name": "stdout",
     "output_type": "stream",
     "text": [
      "Error http://www.hnseeds.com/images/bs0205.png HTTPConnectionPool(host='www.hnseeds.com', port=80): Read timed out. (read timeout=4)\n",
      "Error http://images.meishij.net/p/20110715/87d85cbd4b0942fcd85207ac79f50c26_180x180.jpg HTTPConnectionPool(host='images.meishij.net', port=80): Max retries exceeded with url: /p/20110715/87d85cbd4b0942fcd85207ac79f50c26_180x180.jpg (Caused by ConnectTimeoutError(<urllib3.connection.HTTPConnection object at 0x1a1d013320>, 'Connection to images.meishij.net timed out. (connect timeout=4)'))\n",
      "Error http://upload2.95171.cn/article/20111104/%E5%B0%8F%E7%99%BD%E8%8F%9C.jpg HTTPConnectionPool(host='upload2.95171.cn', port=80): Read timed out.\n",
      "Error https://img14.360buyimg.com/n1/jfs/t3391/260/2028368875/79667/9096bc69/5843bf2eN28a01db3.jpg HTTPSConnectionPool(host='img14.360buyimg.com', port=443): Read timed out. (read timeout=4)\n",
      "Error http://pic15.nipic.com/20110709/7895973_093431459167_2.jpg HTTPConnectionPool(host='pic15.nipic.com', port=80): Read timed out. (read timeout=4)\n",
      "Error http://img.ddmeishi.com/uploads/allimg/130606/1_130606175109_1.jpg HTTPConnectionPool(host='img.ddmeishi.com', port=80): Max retries exceeded with url: /uploads/allimg/130606/1_130606175109_1.jpg (Caused by NewConnectionError('<urllib3.connection.HTTPConnection object at 0x1a1d013cc0>: Failed to establish a new connection: [Errno 8] nodename nor servname provided, or not known'))\n",
      "Error https://imgservice.suning.cn/uimg1/b2c/image/VCuZUXy9P3YRCr8XrMdT1w==.jpg_800w_800h_4e HTTPSConnectionPool(host='imgservice.suning.cn', port=443): Read timed out. (read timeout=4)\n",
      "Error http://images.meishij.net/p/20080625/c7723f03057bc02d6ec105f374c6f342.jpg HTTPConnectionPool(host='images.meishij.net', port=80): Max retries exceeded with url: /p/20080625/c7723f03057bc02d6ec105f374c6f342.jpg (Caused by ConnectTimeoutError(<urllib3.connection.HTTPConnection object at 0x1a1d013198>, 'Connection to images.meishij.net timed out. (connect timeout=4)'))\n",
      "Error http://i.qulishi.com/static/2018/2/5b713a94802ff HTTPConnectionPool(host='i.qulishi.com', port=80): Max retries exceeded with url: /static/2018/2/5b713a94802ff (Caused by ConnectTimeoutError(<urllib3.connection.HTTPConnection object at 0x1a1d6d0a20>, 'Connection to i.qulishi.com timed out. (connect timeout=4)'))\n",
      "Error http://images.meishij.net/p/20120416/04ad6d2f08ecdc86e5d912d42a3f74f1.jpg HTTPConnectionPool(host='images.meishij.net', port=80): Max retries exceeded with url: /p/20120416/04ad6d2f08ecdc86e5d912d42a3f74f1.jpg (Caused by ConnectTimeoutError(<urllib3.connection.HTTPConnection object at 0x1a1d6fb860>, 'Connection to images.meishij.net timed out. (connect timeout=4)'))\n",
      "Error http://www.ny365.com.cn/productimg/2011-9/20110922092925.gif HTTPConnectionPool(host='www.ny365.com.cn', port=80): Max retries exceeded with url: /productimg/2011-9/20110922092925.gif (Caused by ConnectTimeoutError(<urllib3.connection.HTTPConnection object at 0x1a1d6e3358>, 'Connection to www.ny365.com.cn timed out. (connect timeout=4)'))\n",
      "Error https://imgservice1.suning.cn/uimg1/b2c/image/hXEMO95T6mH8b-T2eKzxmA.jpg_400w_400h_4e HTTPSConnectionPool(host='imgservice1.suning.cn', port=443): Read timed out. (read timeout=4)\n",
      "Error http://www.yhcyjt.com/imageRepository/4fd68550-9e4e-4fa2-80e0-df7fbc9aa7cd.jpg ('Connection aborted.', RemoteDisconnected('Remote end closed connection without response'))\n",
      "Error http://www.caituanshuo.com/upload/image/2016-05-12/[17-11]-%E8%8A%B1%E5%8F%B6%E7%94%9F%E8%8F%9C.jpg HTTPConnectionPool(host='www.caituanshuo.com', port=80): Read timed out.\n",
      "Error http://www.taijihuanyu.com/images/201409/goods_img/235_P_1411175050613.jpg HTTPConnectionPool(host='www.taijihuanyu.com', port=80): Max retries exceeded with url: /images/201409/goods_img/235_P_1411175050613.jpg (Caused by NewConnectionError('<urllib3.connection.HTTPConnection object at 0x1a1d6ec898>: Failed to establish a new connection: [Errno 8] nodename nor servname provided, or not known'))\n",
      "Error http://www.xjyangkang.com/html/img.php?pTpd5PZ0tmAmNQZ2xmZ5LGZ3NmA1DGZiRmZjLGZjVmYjHGAiNKLg91p3Izosqari02ow5FMmparhRQpu12YibmpjEUqbkKZ HTTPConnectionPool(host='www.xjyangkang.com', port=80): Max retries exceeded with url: /html/img.php?pTpd5PZ0tmAmNQZ2xmZ5LGZ3NmA1DGZiRmZjLGZjVmYjHGAiNKLg91p3Izosqari02ow5FMmparhRQpu12YibmpjEUqbkKZ (Caused by ConnectTimeoutError(<urllib3.connection.HTTPConnection object at 0x1a1d6e72e8>, 'Connection to www.xjyangkang.com timed out. (connect timeout=4)'))\n",
      "Error https://cp1.douguo.com/upload/caiku/0/b/a/yuan_0bb9e64f96b060b4c88efa79200c6b7a.jpg HTTPSConnectionPool(host='cp1.douguo.com', port=443): Read timed out. (read timeout=4)\n",
      "Error http://www.lilinnongye.com/UploadFiles/shangcheng/2018063021160031259.jpg HTTPConnectionPool(host='www.lilinnongye.com', port=80): Max retries exceeded with url: /UploadFiles/shangcheng/2018063021160031259.jpg (Caused by ConnectTimeoutError(<urllib3.connection.HTTPConnection object at 0x1a1d6f3f60>, 'Connection to www.lilinnongye.com timed out. (connect timeout=4)'))\n",
      "Error http://www.lilinnongye.com/UploadFiles/shangcheng/2018071120211285001.jpg HTTPConnectionPool(host='www.lilinnongye.com', port=80): Max retries exceeded with url: /UploadFiles/shangcheng/2018071120211285001.jpg (Caused by ConnectTimeoutError(<urllib3.connection.HTTPConnection object at 0x1a1d6f1278>, 'Connection to www.lilinnongye.com timed out. (connect timeout=4)'))\n",
      "Error http://sc.mingyouwang.cn/images/201802/goods_img/_P_1517615801205.jpg HTTPConnectionPool(host='sc.mingyouwang.cn', port=80): Max retries exceeded with url: /images/201802/goods_img/_P_1517615801205.jpg (Caused by NewConnectionError('<urllib3.connection.HTTPConnection object at 0x1a1d6e37b8>: Failed to establish a new connection: [Errno 61] Connection refused'))\n",
      "Error https://imgservice4.suning.cn/uimg1/b2c/image/l71ppmjOPLAlOfgHkeqM8w.jpg_400w_400h_4e HTTPSConnectionPool(host='imgservice4.suning.cn', port=443): Read timed out. (read timeout=4)\n",
      "Error https://img10.360buyimg.com/n1/jfs/t16756/211/2418424192/106505/b7d8c93b/5af2f121N7458293d.jpg HTTPSConnectionPool(host='img10.360buyimg.com', port=443): Read timed out. (read timeout=4)\n",
      "Error http://pic66.huitu.com/pic/20160314/636269_20160314231705957400_0.jpg HTTPConnectionPool(host='pic66.huitu.com', port=80): Read timed out. (read timeout=4)\n",
      "Error http://pic174.nipic.com/pic/20180717/23669728_171917719000_4.jpg HTTPConnectionPool(host='pic174.nipic.com', port=80): Read timed out. (read timeout=4)\n",
      "Error http://pic108.huitu.com/pic/20180816/1817085_20180816215609692060_0.jpg HTTPConnectionPool(host='pic108.huitu.com', port=80): Read timed out. (read timeout=4)\n",
      "Error http://pic174.nipic.com/pic/20180717/23669728_170628451000_4.jpg HTTPConnectionPool(host='pic174.nipic.com', port=80): Read timed out. (read timeout=4)\n",
      "Error http://static.nfapp.southcn.com/pic/201702/07/c628a6a2-02ad-466d-a1fb-a86937b5814f.JPEG.2 HTTPConnectionPool(host='static.nfapp.southcn.com', port=80): Read timed out. (read timeout=4)\n",
      "Error https://pic.pingguolv.com/uploads/allimg/180124/77-1P124104237.jpg HTTPSConnectionPool(host='pic.pingguolv.com', port=443): Max retries exceeded with url: /uploads/allimg/180124/77-1P124104237.jpg (Caused by ConnectTimeoutError(<urllib3.connection.VerifiedHTTPSConnection object at 0x1a1d0e3240>, 'Connection to pic.pingguolv.com timed out. (connect timeout=4)'))\n",
      "Error https://pic.pingguolv.com/uploads/allimg/130628/53-13062QG321.jpg HTTPSConnectionPool(host='pic.pingguolv.com', port=443): Max retries exceeded with url: /uploads/allimg/130628/53-13062QG321.jpg (Caused by ConnectTimeoutError(<urllib3.connection.VerifiedHTTPSConnection object at 0x1a1d0dfbe0>, 'Connection to pic.pingguolv.com timed out. (connect timeout=4)'))\n",
      "Error https://pic.pingguolv.com/uploads/allimg/170904/99-1FZ4222627.jpg HTTPSConnectionPool(host='pic.pingguolv.com', port=443): Max retries exceeded with url: /uploads/allimg/170904/99-1FZ4222627.jpg (Caused by ConnectTimeoutError(<urllib3.connection.VerifiedHTTPSConnection object at 0x1a1d6c8400>, 'Connection to pic.pingguolv.com timed out. (connect timeout=4)'))\n",
      "Error https://pic4.zhimg.com/80/v2-6e3236d8319c543e5d6e59053f203113_hd.jpg HTTPSConnectionPool(host='pic4.zhimg.com', port=443): Read timed out. (read timeout=4)\n"
     ]
    },
    {
     "name": "stdout",
     "output_type": "stream",
     "text": [
      "Error https://www.uooyoo.com/img2017/9/15/2017091562516141.jpg HTTPSConnectionPool(host='www.uooyoo.com', port=443): Read timed out. (read timeout=4)\n",
      "Error https://www.uooyoo.com/img2016/7/9/2016070938674717.jpg HTTPSConnectionPool(host='www.uooyoo.com', port=443): Read timed out. (read timeout=4)\n",
      "Error https://pic.pingguolv.com/uploads/allimg/151119/77-1511191I413.jpg HTTPSConnectionPool(host='pic.pingguolv.com', port=443): Max retries exceeded with url: /uploads/allimg/151119/77-1511191I413.jpg (Caused by ConnectTimeoutError(<urllib3.connection.VerifiedHTTPSConnection object at 0x1a1d6ec048>, 'Connection to pic.pingguolv.com timed out. (connect timeout=4)'))\n",
      "Error https://www.haocai777.com/Article/UploadFiles2012c/201703/2017031216572313.jpg HTTPSConnectionPool(host='www.haocai777.com', port=443): Max retries exceeded with url: /Article/UploadFiles2012c/201703/2017031216572313.jpg (Caused by ConnectTimeoutError(<urllib3.connection.VerifiedHTTPSConnection object at 0x1a1d6ec2e8>, 'Connection to www.haocai777.com timed out. (connect timeout=4)'))\n",
      "Error https://pic.pingguolv.com/uploads/allimg/180818/147-1PQQHP1.png HTTPSConnectionPool(host='pic.pingguolv.com', port=443): Max retries exceeded with url: /uploads/allimg/180818/147-1PQQHP1.png (Caused by ConnectTimeoutError(<urllib3.connection.VerifiedHTTPSConnection object at 0x1a1d6fb898>, 'Connection to pic.pingguolv.com timed out. (connect timeout=4)'))\n",
      "Error http://i2.chuimg.com/b935edb6887911e6b87c0242ac110003_640w_640h.jpg?imageView2/2/w/660/interlace/1/q/90 HTTPConnectionPool(host='i2.chuimg.com', port=80): Read timed out. (read timeout=4)\n",
      "Error https://i7.meishichina.com/Health/UploadFiles/201004/2010040817053787.jpg HTTPSConnectionPool(host='i7.meishichina.com', port=443): Max retries exceeded with url: /Health/UploadFiles/201004/2010040817053787.jpg (Caused by ConnectTimeoutError(<urllib3.connection.VerifiedHTTPSConnection object at 0x1a1d6fb4a8>, 'Connection to i7.meishichina.com timed out. (connect timeout=4)'))\n",
      "Error https://pic.pingguolv.com/uploads/allimg/151119/77-1511191I617.jpg HTTPSConnectionPool(host='pic.pingguolv.com', port=443): Max retries exceeded with url: /uploads/allimg/151119/77-1511191I617.jpg (Caused by ConnectTimeoutError(<urllib3.connection.VerifiedHTTPSConnection object at 0x1a1d6f2f28>, 'Connection to pic.pingguolv.com timed out. (connect timeout=4)'))\n",
      "Error http://img0.utuku.china.com/640x0/toutiao/20180101/27f61a52-4161-478e-8c69-25cdcbe46c04.jpg HTTPSConnectionPool(host='img0.utuku.china.com', port=443): Read timed out. (read timeout=4)\n",
      "Error https://pic.pingguolv.com/uploads/allimg/151119/77-1511191I447.jpg HTTPSConnectionPool(host='pic.pingguolv.com', port=443): Max retries exceeded with url: /uploads/allimg/151119/77-1511191I447.jpg (Caused by ConnectTimeoutError(<urllib3.connection.VerifiedHTTPSConnection object at 0x1a1d6f29b0>, 'Connection to pic.pingguolv.com timed out. (connect timeout=4)'))\n",
      "Error http://i2.chuimg.com/eead76d489a611e6a9a10242ac110002_1280w_1280h.jpg?imageView2/2/w/660/interlace/1/q/90 HTTPConnectionPool(host='i2.chuimg.com', port=80): Read timed out. (read timeout=4)\n",
      "Error https://pic.pingguolv.com/uploads/allimg/151119/77-1511191IA2.jpg HTTPSConnectionPool(host='pic.pingguolv.com', port=443): Max retries exceeded with url: /uploads/allimg/151119/77-1511191IA2.jpg (Caused by ConnectTimeoutError(<urllib3.connection.VerifiedHTTPSConnection object at 0x1a1d6f2978>, 'Connection to pic.pingguolv.com timed out. (connect timeout=4)'))\n",
      "Error https://www.huabaike.com/uploads/allimg/artimg/201810/20181001090903_55104.jpg HTTPSConnectionPool(host='www.huabaike.com', port=443): Max retries exceeded with url: /uploads/allimg/artimg/201810/20181001090903_55104.jpg (Caused by ConnectTimeoutError(<urllib3.connection.VerifiedHTTPSConnection object at 0x1a1d6eca58>, 'Connection to www.huabaike.com timed out. (connect timeout=4)'))\n",
      "Error https://pic.pingguolv.com/uploads/allimg/151119/77-1511191I527.jpg HTTPSConnectionPool(host='pic.pingguolv.com', port=443): Max retries exceeded with url: /uploads/allimg/151119/77-1511191I527.jpg (Caused by ConnectTimeoutError(<urllib3.connection.VerifiedHTTPSConnection object at 0x1a1d6f27f0>, 'Connection to pic.pingguolv.com timed out. (connect timeout=4)'))\n",
      "Error https://upload-images.jianshu.io/upload_images/11828310-bf7cbf7db70785d9.jpg?imageMogr2/auto-orient/strip%7CimageView2/2/w/1240 HTTPSConnectionPool(host='upload-images.jianshu.io', port=443): Read timed out. (read timeout=4)\n",
      "Error https://pic.pingguolv.com/uploads/allimg/151119/77-1511191I507.jpg HTTPSConnectionPool(host='pic.pingguolv.com', port=443): Max retries exceeded with url: /uploads/allimg/151119/77-1511191I507.jpg (Caused by ConnectTimeoutError(<urllib3.connection.VerifiedHTTPSConnection object at 0x1a1d6e4860>, 'Connection to pic.pingguolv.com timed out. (connect timeout=4)'))\n",
      "Error https://www.huabaike.com/uploads/allimg/artimg/201810/20181001090940_21362.jpg HTTPSConnectionPool(host='www.huabaike.com', port=443): Max retries exceeded with url: /uploads/allimg/artimg/201810/20181001090940_21362.jpg (Caused by ConnectTimeoutError(<urllib3.connection.VerifiedHTTPSConnection object at 0x1a1d6d05f8>, 'Connection to www.huabaike.com timed out. (connect timeout=4)'))\n",
      "Error http://www.gdzjdaily.com.cn/food/attachement/jpg/site2/20101015/b8ac6f4680fd0e220c0d1c.jpg HTTPConnectionPool(host='www.gdzjdaily.com.cn', port=80): Max retries exceeded with url: /food/attachement/jpg/site2/20101015/b8ac6f4680fd0e220c0d1c.jpg (Caused by ConnectTimeoutError(<urllib3.connection.HTTPConnection object at 0x1a1d6fb7f0>, 'Connection to www.gdzjdaily.com.cn timed out. (connect timeout=4)'))\n",
      "Error http://site.meishij.net/shicaiimg/89/shicai339_180x180.jpg HTTPConnectionPool(host='site.meishij.net', port=80): Max retries exceeded with url: /shicaiimg/89/shicai339_180x180.jpg (Caused by ConnectTimeoutError(<urllib3.connection.HTTPConnection object at 0x1a1d6fb588>, 'Connection to site.meishij.net timed out. (connect timeout=4)'))\n",
      "Error https://www.uooyoo.com/img2016/12/12/2016121270616425.jpg HTTPSConnectionPool(host='www.uooyoo.com', port=443): Read timed out. (read timeout=4)\n",
      "Error https://www.uooyoo.com/img2017/12/14/2017121454073221.png HTTPSConnectionPool(host='www.uooyoo.com', port=443): Read timed out. (read timeout=4)\n",
      "Error https://www.huabaike.com/uploads/allimg/sltimg/201809/5b8fa306cf337.jpg HTTPSConnectionPool(host='www.huabaike.com', port=443): Max retries exceeded with url: /uploads/allimg/sltimg/201809/5b8fa306cf337.jpg (Caused by ConnectTimeoutError(<urllib3.connection.VerifiedHTTPSConnection object at 0x1a1d013278>, 'Connection to www.huabaike.com timed out. (connect timeout=4)'))\n",
      "Error http://images.meishij.net/p/20100913/293042e199b5fbcc328eb4ee7eff5d18_150x150.jpg HTTPConnectionPool(host='images.meishij.net', port=80): Max retries exceeded with url: /p/20100913/293042e199b5fbcc328eb4ee7eff5d18_150x150.jpg (Caused by ConnectTimeoutError(<urllib3.connection.HTTPConnection object at 0x1a1d6f19e8>, 'Connection to images.meishij.net timed out. (connect timeout=4)'))\n",
      "Error http://images.meishij.net/p/20110113/8818f2f5228d3c9f57dc13d9683c4548_150x150.jpg HTTPConnectionPool(host='images.meishij.net', port=80): Max retries exceeded with url: /p/20110113/8818f2f5228d3c9f57dc13d9683c4548_150x150.jpg (Caused by ConnectTimeoutError(<urllib3.connection.HTTPConnection object at 0x1a1d0e3f28>, 'Connection to images.meishij.net timed out. (connect timeout=4)'))\n",
      "Error http://images.meishij.net/p/20110309/baf230cfcc5ab552f44a37236e80662e_150x150.jpg HTTPConnectionPool(host='images.meishij.net', port=80): Max retries exceeded with url: /p/20110309/baf230cfcc5ab552f44a37236e80662e_150x150.jpg (Caused by ConnectTimeoutError(<urllib3.connection.HTTPConnection object at 0x1a1d6f1cc0>, 'Connection to images.meishij.net timed out. (connect timeout=4)'))\n",
      "Error http://images.meishij.net/p/20120328/97de81af2f417652eb7bdd76246a62d0_150x150.jpg HTTPConnectionPool(host='images.meishij.net', port=80): Max retries exceeded with url: /p/20120328/97de81af2f417652eb7bdd76246a62d0_150x150.jpg (Caused by ConnectTimeoutError(<urllib3.connection.HTTPConnection object at 0x1a1d013be0>, 'Connection to images.meishij.net timed out. (connect timeout=4)'))\n"
     ]
    },
    {
     "name": "stdout",
     "output_type": "stream",
     "text": [
      "Error http://images.meishij.net/p/20100402/04dc39ed8b1222c0ae5ad6eff8454794.jpg HTTPConnectionPool(host='images.meishij.net', port=80): Max retries exceeded with url: /p/20100402/04dc39ed8b1222c0ae5ad6eff8454794.jpg (Caused by ConnectTimeoutError(<urllib3.connection.HTTPConnection object at 0x1a1d6e3048>, 'Connection to images.meishij.net timed out. (connect timeout=4)'))\n",
      "Error http://site.meishij.net/r/115/13/2253365/a2253365_33591.jpg HTTPConnectionPool(host='site.meishij.net', port=80): Max retries exceeded with url: /r/115/13/2253365/a2253365_33591.jpg (Caused by ConnectTimeoutError(<urllib3.connection.HTTPConnection object at 0x1a1d6f32b0>, 'Connection to site.meishij.net timed out. (connect timeout=4)'))\n",
      "Error https://img.ruten.com.tw/s1/3/d2/1b/21747354962459_183.jpg ('Connection aborted.', OSError(\"(54, 'ECONNRESET')\"))\n",
      "Error http://pic10.nipic.com/20101027/5736135_095147001042_2.jpg HTTPConnectionPool(host='pic10.nipic.com', port=80): Read timed out. (read timeout=4)\n",
      "Error https://www.uooyoo.com/img2017/10/27/2017102735336205.jpg HTTPSConnectionPool(host='www.uooyoo.com', port=443): Read timed out. (read timeout=4)\n",
      "Error http://npic7.edushi.com/cn/lvyou/Special/zh-chs/2016-12/01/57325-aaa13eadf12346a422d516192da54bd35aldA9_558x558.jpg HTTPConnectionPool(host='npic7.edushi.com', port=80): Read timed out. (read timeout=4)\n",
      "Error https://static.cndzys.com/20161017/b6d1e53af1be3c677a68aceff07d8cd1.jpg HTTPSConnectionPool(host='static.cndzys.com', port=443): Max retries exceeded with url: /20161017/b6d1e53af1be3c677a68aceff07d8cd1.jpg (Caused by ConnectTimeoutError(<urllib3.connection.VerifiedHTTPSConnection object at 0x1a1d6f4358>, 'Connection to static.cndzys.com timed out. (connect timeout=4)'))\n",
      "Error http://p2.qhimgs4.com/t01ae18b7186e2e2fef.jpg HTTPConnectionPool(host='p2.qhimgs4.com', port=80): Read timed out. (read timeout=4)\n",
      "Error http://images.meishij.net/p/20111019/af0aa683a0aa3bc1345eac465d56ee3c_180x180.jpg HTTPConnectionPool(host='images.meishij.net', port=80): Max retries exceeded with url: /p/20111019/af0aa683a0aa3bc1345eac465d56ee3c_180x180.jpg (Caused by ConnectTimeoutError(<urllib3.connection.HTTPConnection object at 0x1a1d6ca5f8>, 'Connection to images.meishij.net timed out. (connect timeout=4)'))\n",
      "Error http://www.wcs0551.com/UploadImages/images/20171205/6364808006247928932764920.jpg HTTPConnectionPool(host='www.wcs0551.com', port=80): Max retries exceeded with url: /UploadImages/images/20171205/6364808006247928932764920.jpg (Caused by NewConnectionError('<urllib3.connection.HTTPConnection object at 0x1a1d6c87f0>: Failed to establish a new connection: [Errno 61] Connection refused'))\n",
      "Error https://pic.pingguolv.com/uploads/allimg/170711/99-1FG11S936.jpg HTTPSConnectionPool(host='pic.pingguolv.com', port=443): Max retries exceeded with url: /uploads/allimg/170711/99-1FG11S936.jpg (Caused by ConnectTimeoutError(<urllib3.connection.VerifiedHTTPSConnection object at 0x1a1d6ca780>, 'Connection to pic.pingguolv.com timed out. (connect timeout=4)'))\n",
      "Error https://pic.pingguolv.com/uploads/allimg/170904/99-1FZ41A124.jpg HTTPSConnectionPool(host='pic.pingguolv.com', port=443): Max retries exceeded with url: /uploads/allimg/170904/99-1FZ41A124.jpg (Caused by ConnectTimeoutError(<urllib3.connection.VerifiedHTTPSConnection object at 0x1a1d6ca278>, 'Connection to pic.pingguolv.com timed out. (connect timeout=4)'))\n",
      "Error http://img9.itiexue.net/2104/21044301.jpg HTTPConnectionPool(host='img9.itiexue.net', port=80): Read timed out. (read timeout=4)\n",
      "Error https://pic.pingguolv.com/uploads/allimg/151120/80-1511201F641.png HTTPSConnectionPool(host='pic.pingguolv.com', port=443): Max retries exceeded with url: /uploads/allimg/151120/80-1511201F641.png (Caused by ConnectTimeoutError(<urllib3.connection.VerifiedHTTPSConnection object at 0x1a1d0cdc18>, 'Connection to pic.pingguolv.com timed out. (connect timeout=4)'))\n",
      "Error https://pic.pingguolv.com/uploads/allimg/151120/80-1511201FH9.png HTTPSConnectionPool(host='pic.pingguolv.com', port=443): Max retries exceeded with url: /uploads/allimg/151120/80-1511201FH9.png (Caused by ConnectTimeoutError(<urllib3.connection.VerifiedHTTPSConnection object at 0x1a1d6c8400>, 'Connection to pic.pingguolv.com timed out. (connect timeout=4)'))\n",
      "Error http://images.meishij.net/p/20120312/302c5bfc554abbc078fb4de655711cb7_150x150.jpg HTTPConnectionPool(host='images.meishij.net', port=80): Max retries exceeded with url: /p/20120312/302c5bfc554abbc078fb4de655711cb7_150x150.jpg (Caused by ConnectTimeoutError(<urllib3.connection.HTTPConnection object at 0x1a1d6c8940>, 'Connection to images.meishij.net timed out. (connect timeout=4)'))\n",
      "Error https://pic.pingguolv.com/uploads/allimg/151120/80-1511201FA4.png HTTPSConnectionPool(host='pic.pingguolv.com', port=443): Max retries exceeded with url: /uploads/allimg/151120/80-1511201FA4.png (Caused by ConnectTimeoutError(<urllib3.connection.VerifiedHTTPSConnection object at 0x1a1d6c84a8>, 'Connection to pic.pingguolv.com timed out. (connect timeout=4)'))\n",
      "Error https://m.chinawbk.com/images/hk/Webh_C_ykHFh_C_yF4SjUjebh_C_ybVH8_P_9FgDwOUKNFDbUDKpuxMUDwfgOxN1DufUDh_C_yGWxJ.jpg HTTPSConnectionPool(host='m.chinawbk.com', port=443): Read timed out. (read timeout=4)\n",
      "Error https://pic.pingguolv.com/uploads/allimg/151120/80-1511201FJ4.png HTTPSConnectionPool(host='pic.pingguolv.com', port=443): Max retries exceeded with url: /uploads/allimg/151120/80-1511201FJ4.png (Caused by ConnectTimeoutError(<urllib3.connection.VerifiedHTTPSConnection object at 0x1a1d6ca7b8>, 'Connection to pic.pingguolv.com timed out. (connect timeout=4)'))\n",
      "Error http://jhdr.xhby.net/pic/201703/19/56cf866d-b61c-4146-9961-7f018c79570c.jpg.2 HTTPConnectionPool(host='jhdr.xhby.net', port=80): Read timed out. (read timeout=4)\n",
      "Error http://image.dachuyi.com/upload/recipe/2015/05/684282_i.jpg HTTPConnectionPool(host='image.dachuyi.com', port=80): Read timed out. (read timeout=4)\n",
      "Error http://www.hbjjrb.com/luyou/UploadFiles_4974/201811/2018111516192256.jpg HTTPConnectionPool(host='www.hbjjrb.com', port=80): Max retries exceeded with url: /luyou/UploadFiles_4974/201811/2018111516192256.jpg (Caused by ConnectTimeoutError(<urllib3.connection.HTTPConnection object at 0x1a1d6ca240>, 'Connection to www.hbjjrb.com timed out. (connect timeout=4)'))\n",
      "Error http://p1.pstatp.com/large/5b450002e53b9ca8554c HTTPConnectionPool(host='p1.pstatp.com', port=80): Read timed out. (read timeout=4)\n",
      "Error https://jnyd.net/images/upload/20181014/15395234558748.jpg HTTPSConnectionPool(host='jnyd.net', port=443): Max retries exceeded with url: /images/upload/20181014/15395234558748.jpg (Caused by SSLError(SSLCertVerificationError(\"hostname 'jnyd.net' doesn't match either of 'www.lcyunshang.com', 'lcyunshang.com'\")))\n",
      "Error http://img9.itiexue.net/2104/21047037.jpg HTTPConnectionPool(host='img20.itiexue.net', port=80): Read timed out. (read timeout=4)\n",
      "Error https://pic1.zhimg.com/80/v2-019d8b0a21423468c57d89eeb277c0dc_hd.jpg HTTPSConnectionPool(host='pic1.zhimg.com', port=443): Read timed out. (read timeout=4)\n",
      "Error https://pic.pingguolv.com/uploads/allimg/151120/80-1511201FS0.png HTTPSConnectionPool(host='pic.pingguolv.com', port=443): Max retries exceeded with url: /uploads/allimg/151120/80-1511201FS0.png (Caused by ConnectTimeoutError(<urllib3.connection.VerifiedHTTPSConnection object at 0x1a1d6e6c50>, 'Connection to pic.pingguolv.com timed out. (connect timeout=4)'))\n",
      "Error https://res.youth.cn/article_201812_22_22c_5c1d85983451f.jpg HTTPSConnectionPool(host='res.youth.cn', port=443): Max retries exceeded with url: /article_201812_22_22c_5c1d85983451f.jpg (Caused by ConnectTimeoutError(<urllib3.connection.VerifiedHTTPSConnection object at 0x1a1d6e60f0>, 'Connection to res.youth.cn timed out. (connect timeout=4)'))\n",
      "Error https://www.uooyoo.com/img2016/7/20/2016072068801953.jpg HTTPSConnectionPool(host='www.uooyoo.com', port=443): Read timed out. (read timeout=4)\n",
      "Error https://pic.pingguolv.com/uploads/allimg/140302/53-140302102648.jpg HTTPSConnectionPool(host='pic.pingguolv.com', port=443): Max retries exceeded with url: /uploads/allimg/140302/53-140302102648.jpg (Caused by ConnectTimeoutError(<urllib3.connection.VerifiedHTTPSConnection object at 0x1a1d6f1048>, 'Connection to pic.pingguolv.com timed out. (connect timeout=4)'))\n"
     ]
    },
    {
     "name": "stdout",
     "output_type": "stream",
     "text": [
      "Error https://pic.pingguolv.com/uploads/allimg/140302/53-140302102004.jpg HTTPSConnectionPool(host='pic.pingguolv.com', port=443): Max retries exceeded with url: /uploads/allimg/140302/53-140302102004.jpg (Caused by ConnectTimeoutError(<urllib3.connection.VerifiedHTTPSConnection object at 0x1a1d6f1b00>, 'Connection to pic.pingguolv.com timed out. (connect timeout=4)'))\n",
      "Error https://static.cndzys.com/20160922/030b09f19e8e71e2b9635320d897becc.jpg HTTPSConnectionPool(host='static.cndzys.com', port=443): Max retries exceeded with url: /20160922/030b09f19e8e71e2b9635320d897becc.jpg (Caused by ConnectTimeoutError(<urllib3.connection.VerifiedHTTPSConnection object at 0x1a1d6f1828>, 'Connection to static.cndzys.com timed out. (connect timeout=4)'))\n",
      "Error http://www.forestry.gov.cn/html/main/main_72/20181016165445354223400/20181016165548957349704_1.jpg HTTPConnectionPool(host='www.forestry.gov.cn', port=80): Max retries exceeded with url: /html/main/main_72/20181016165445354223400/20181016165548957349704_1.jpg (Caused by NewConnectionError('<urllib3.connection.HTTPConnection object at 0x1a1d6f3ba8>: Failed to establish a new connection: [Errno 8] nodename nor servname provided, or not known'))\n",
      "Error https://www.uooyoo.com/img2017/1/9/2017010932753295.jpg HTTPSConnectionPool(host='www.uooyoo.com', port=443): Read timed out. (read timeout=4)\n",
      "Error http://m.360buyimg.com/pop/jfs/t24160/59/1562328344/100462/3195e4df/5b625e1eN724f1f63.jpg HTTPConnectionPool(host='m.360buyimg.com', port=80): Read timed out. (read timeout=4)\n",
      "Error https://pic.pingguolv.com/uploads/allimg/140302/53-140302102237.jpg HTTPSConnectionPool(host='pic.pingguolv.com', port=443): Max retries exceeded with url: /uploads/allimg/140302/53-140302102237.jpg (Caused by ConnectTimeoutError(<urllib3.connection.VerifiedHTTPSConnection object at 0x1a1d6f1e10>, 'Connection to pic.pingguolv.com timed out. (connect timeout=4)'))\n",
      "Error https://static.cndzys.com/20160922/cf620cf6a90cfb5826b5cff5e2400b55.jpg HTTPSConnectionPool(host='static.cndzys.com', port=443): Max retries exceeded with url: /20160922/cf620cf6a90cfb5826b5cff5e2400b55.jpg (Caused by ConnectTimeoutError(<urllib3.connection.VerifiedHTTPSConnection object at 0x1a1d6e3128>, 'Connection to static.cndzys.com timed out. (connect timeout=4)'))\n",
      "Error https://pic.qbaobei.com/Uploads/Picture/2018-02-13/5a824ae5471dd.jpg HTTPSConnectionPool(host='pic.qbaobei.com', port=443): Max retries exceeded with url: /Uploads/Picture/2018-02-13/5a824ae5471dd.jpg (Caused by ConnectTimeoutError(<urllib3.connection.VerifiedHTTPSConnection object at 0x1a1d6e3278>, 'Connection to pic.qbaobei.com timed out. (connect timeout=4)'))\n",
      "Error https://i8.meishichina.com/attachment/r/2012/04/17/20120417223316576621569.jpg?x-oss-process=style/p800 HTTPSConnectionPool(host='i8.meishichina.com', port=443): Max retries exceeded with url: /attachment/r/2012/04/17/20120417223316576621569.jpg?x-oss-process=style/p800 (Caused by ConnectTimeoutError(<urllib3.connection.VerifiedHTTPSConnection object at 0x1a1d6f3198>, 'Connection to i8.meishichina.com timed out. (connect timeout=4)'))\n",
      "Error http://m.360buyimg.com/pop/jfs/t25675/211/216975936/249842/60233fa9/5b694d46Nd61fcc0f.png HTTPConnectionPool(host='m.360buyimg.com', port=80): Read timed out. (read timeout=4)\n",
      "Error https://pic.pingguolv.com/uploads/allimg/140302/53-140302102325.jpg HTTPSConnectionPool(host='pic.pingguolv.com', port=443): Max retries exceeded with url: /uploads/allimg/140302/53-140302102325.jpg (Caused by ConnectTimeoutError(<urllib3.connection.VerifiedHTTPSConnection object at 0x1a1d6f3eb8>, 'Connection to pic.pingguolv.com timed out. (connect timeout=4)'))\n",
      "Error http://pic144.nipic.com/file/20171027/12106414_163349726037_2.jpg HTTPConnectionPool(host='pic144.nipic.com', port=80): Read timed out. (read timeout=4)\n",
      "Error http://www.forestry.gov.cn/uploadfile/history//data/2008/uploadfile/2008-08-19-507061-46%E9%BA%BB%E7%AB%B9%E7%AC%8B%E7%94%A8%E6%9E%97--%E5%AD%94%E7%B9%81%E7%A6%8F.c.jpg HTTPConnectionPool(host='www.forestry.gov.cn', port=80): Max retries exceeded with url: /uploadfile/history//data/2008/uploadfile/2008-08-19-507061-46%E9%BA%BB%E7%AB%B9%E7%AC%8B%E7%94%A8%E6%9E%97--%E5%AD%94%E7%B9%81%E7%A6%8F.c.jpg (Caused by NewConnectionError('<urllib3.connection.HTTPConnection object at 0x1a1d6f30b8>: Failed to establish a new connection: [Errno 8] nodename nor servname provided, or not known'))\n",
      "Error https://i8.meishichina.com/attachment/recipe/2012/09/26/20120926105247217599652.jpg?x-oss-process=style/p800 HTTPSConnectionPool(host='i8.meishichina.com', port=443): Max retries exceeded with url: /attachment/recipe/2012/09/26/20120926105247217599652.jpg?x-oss-process=style/p800 (Caused by ConnectTimeoutError(<urllib3.connection.VerifiedHTTPSConnection object at 0x1a1d6e4c88>, 'Connection to i8.meishichina.com timed out. (connect timeout=4)'))\n",
      "Error https://i8.meishichina.com/attachment/r/2012/05/09/20120509132946110424886.jpg?x-oss-process=style/p800 HTTPSConnectionPool(host='i8.meishichina.com', port=443): Max retries exceeded with url: /attachment/r/2012/05/09/20120509132946110424886.jpg?x-oss-process=style/p800 (Caused by ConnectTimeoutError(<urllib3.connection.VerifiedHTTPSConnection object at 0x1a1d6f1e10>, 'Connection to i8.meishichina.com timed out. (connect timeout=4)'))\n",
      "Error http://m.360buyimg.com/pop/jfs/t24559/44/1731995259/183224/a3bca6cf/5b69668dN8894513b.jpg HTTPConnectionPool(host='m.360buyimg.com', port=80): Read timed out. (read timeout=4)\n",
      "Error https://i8.meishichina.com/attachment/recipe/2013/05/15/20130515111805398439948.jpg?x-oss-process=style/p800 HTTPSConnectionPool(host='i8.meishichina.com', port=443): Max retries exceeded with url: /attachment/recipe/2013/05/15/20130515111805398439948.jpg?x-oss-process=style/p800 (Caused by ConnectTimeoutError(<urllib3.connection.VerifiedHTTPSConnection object at 0x1a1d6f13c8>, 'Connection to i8.meishichina.com timed out. (connect timeout=4)'))\n",
      "Error https://pic.pingguolv.com/uploads/allimg/140302/53-140302103H6.jpg HTTPSConnectionPool(host='pic.pingguolv.com', port=443): Max retries exceeded with url: /uploads/allimg/140302/53-140302103H6.jpg (Caused by ConnectTimeoutError(<urllib3.connection.VerifiedHTTPSConnection object at 0x1a1d6e4668>, 'Connection to pic.pingguolv.com timed out. (connect timeout=4)'))\n",
      "Error http://m.360buyimg.com/pop/jfs/t25681/304/230777018/214322/18a68c42/5b6977ceN2d396ccc.jpg HTTPConnectionPool(host='m.360buyimg.com', port=80): Read timed out. (read timeout=4)\n",
      "Error https://www.uooyoo.com/img2017/9/8/2017090853159205.jpg HTTPSConnectionPool(host='www.uooyoo.com', port=443): Read timed out. (read timeout=4)\n",
      "Error https://img.ruten.com.tw/s2/c/bc/e4/21621784462564_330.jpg ('Connection aborted.', OSError(\"(54, 'ECONNRESET')\"))\n",
      "Error http://www.organicb.com.hk/images/Cabbage_white.JPG HTTPConnectionPool(host='www.organicb.com.hk', port=80): Read timed out. (read timeout=4)\n",
      "Error http://www.chinabaike.com/uploads/allimg/151211/10303T503-0.jpg HTTPConnectionPool(host='www.chinabaike.com', port=80): Read timed out. (read timeout=4)\n",
      "Error http://i2.sinaimg.cn/edu/2014/0901/U7638P42DT20140901135301.jpeg HTTPConnectionPool(host='i2.sinaimg.cn', port=80): Read timed out. (read timeout=4)\n",
      "Error https://i8.meishichina.com/attachment/recipe/201102/201102181143076.jpg?x-oss-process=style/p800 HTTPSConnectionPool(host='i8.meishichina.com', port=443): Max retries exceeded with url: /attachment/recipe/201102/201102181143076.jpg?x-oss-process=style/p800 (Caused by ConnectTimeoutError(<urllib3.connection.VerifiedHTTPSConnection object at 0x1a1d6fbe48>, 'Connection to i8.meishichina.com timed out. (connect timeout=4)'))\n",
      "Error https://www.uooyoo.com/img2017/6/8/2017060834940453.jpg HTTPSConnectionPool(host='www.uooyoo.com', port=443): Read timed out. (read timeout=4)\n",
      "Error https://pic1.zhimg.com/80/v2-8da6dd6be24b1d28716243936aaa600c_hd.jpg HTTPSConnectionPool(host='pic1.zhimg.com', port=443): Read timed out. (read timeout=4)\n",
      "Error http://img14.360buyimg.com/n7/s186x186_jfs/t1/7825/12/1887/308870/5bd038a0E5825659b/1c630dce0d8be954.jpg HTTPConnectionPool(host='img14.360buyimg.com', port=80): Read timed out. (read timeout=4)\n",
      "Error https://pic3.zhimg.com/239286941d3cce35813a31533191fcc4_1200x500.jpg HTTPSConnectionPool(host='pic3.zhimg.com', port=443): Read timed out. (read timeout=4)\n"
     ]
    },
    {
     "name": "stdout",
     "output_type": "stream",
     "text": [
      "Error https://pic.qyer.com/album/user/719/27/RkhcQB0CZg/index/680x HTTPSConnectionPool(host='pic.qyer.com', port=443): Read timed out. (read timeout=4)\n",
      "Error https://www.yacook.org/sites/default/files/yacomt0x0000/image/yacook200905/R1-00001.jpg ('Connection aborted.', RemoteDisconnected('Remote end closed connection without response'))\n",
      "Error https://www.uooyoo.com/img2017/11/11/2017111137919469.png HTTPSConnectionPool(host='www.uooyoo.com', port=443): Read timed out. (read timeout=4)\n",
      "Error http://pic34.nipic.com/20131019/4232515_013133317192_2.jpg HTTPConnectionPool(host='pic34.nipic.com', port=80): Read timed out. (read timeout=4)\n",
      "Error http://img14.360buyimg.com/n7/jfs/t18853/363/855092958/256376/e4a9f62d/5aad4117Nc905d893.jpg HTTPConnectionPool(host='img14.360buyimg.com', port=80): Read timed out. (read timeout=4)\n",
      "Error https://theblog.jessikerbakes.com/wp-content/uploads/2014/01/IMG_2558.jpg HTTPSConnectionPool(host='theblog.jessikerbakes.com', port=443): Max retries exceeded with url: /wp-content/uploads/2014/01/IMG_2558.jpg (Caused by SSLError(SSLCertVerificationError(\"hostname 'theblog.jessikerbakes.com' doesn't match either of 'jessicainthekitchen.com', 'www.jessicainthekitchen.com'\")))\n",
      "Error https://img.washingtonpost.com/rf/image_480w/2010-2019/WashingtonPost/2014/10/23/Food/Images/thanksgiving0161414090629.jpg?uuid=dK2fdlrmEeSdbHVqIp2LGA HTTPSConnectionPool(host='img.washingtonpost.com', port=443): Read timed out. (read timeout=4)\n",
      "Error https://www.uooyoo.com/img2017/11/4/2017110434050345.png HTTPSConnectionPool(host='www.uooyoo.com', port=443): Read timed out. (read timeout=4)\n",
      "Error https://pic.pingguolv.com/uploads/allimg/170606/99-1F606210037.jpg HTTPSConnectionPool(host='pic.pingguolv.com', port=443): Read timed out. (read timeout=4)\n",
      "Error https://img.leha.com/1c1/b36b8266daadf.jpg HTTPSConnectionPool(host='img.leha.com', port=443): Max retries exceeded with url: /1c1/b36b8266daadf.jpg (Caused by ConnectTimeoutError(<urllib3.connection.VerifiedHTTPSConnection object at 0x1a1d6e3550>, 'Connection to img.leha.com timed out. (connect timeout=4)'))\n",
      "Error http://pic83.huitu.com/pic/20160719/131263_20160719155240657200_0.jpg HTTPConnectionPool(host='pic83.huitu.com', port=80): Read timed out. (read timeout=4)\n",
      "Error http://www.shreemcapacitors.com/uploads/allimg/180313/04513I0B-1.jpg HTTPConnectionPool(host='www.shreemcapacitors.com', port=80): Max retries exceeded with url: /uploads/allimg/180313/04513I0B-1.jpg (Caused by NewConnectionError('<urllib3.connection.HTTPConnection object at 0x1a1d6f1198>: Failed to establish a new connection: [Errno 8] nodename nor servname provided, or not known'))\n",
      "Error http://cp1.douguo.net/upload/caiku/f/5/5/yuan_f51501e758f5fdbc44755c5efa4e1005.jpg HTTPConnectionPool(host='cp1.douguo.net', port=80): Max retries exceeded with url: /upload/caiku/f/5/5/yuan_f51501e758f5fdbc44755c5efa4e1005.jpg (Caused by NewConnectionError('<urllib3.connection.HTTPConnection object at 0x1a1d6f1b38>: Failed to establish a new connection: [Errno 8] nodename nor servname provided, or not known'))\n",
      "Error https://img.leha.com/9cd/0c40ab348ceec.jpg HTTPSConnectionPool(host='img.leha.com', port=443): Max retries exceeded with url: /9cd/0c40ab348ceec.jpg (Caused by ConnectTimeoutError(<urllib3.connection.VerifiedHTTPSConnection object at 0x1a1d6f38d0>, 'Connection to img.leha.com timed out. (connect timeout=4)'))\n",
      "Error https://pic1.zhimg.com/e2ff76032fca38df3b3f9ee0a0dd1bf0_b.jpg HTTPSConnectionPool(host='pic1.zhimg.com', port=443): Read timed out. (read timeout=4)\n",
      "Error https://cp1.douguo.com/upload/caiku/e/6/9/yuan_e6df5bfdbe6513d7dbea031cef398319.jpg HTTPSConnectionPool(host='cp1.douguo.com', port=443): Read timed out. (read timeout=4)\n",
      "Error http://img.shipu.cm/uploads/20170516/udmluiasf30.jpg HTTPConnectionPool(host='img.shipu.cm', port=80): Max retries exceeded with url: /uploads/20170516/udmluiasf30.jpg (Caused by NewConnectionError('<urllib3.connection.HTTPConnection object at 0x1a1d0dfa20>: Failed to establish a new connection: [Errno 8] nodename nor servname provided, or not known'))\n",
      "Error https://img.supfree.net/zhongyao/images/4189_1.jpg HTTPSConnectionPool(host='img.supfree.net', port=443): Max retries exceeded with url: /zhongyao/images/4189_1.jpg (Caused by ConnectTimeoutError(<urllib3.connection.VerifiedHTTPSConnection object at 0x1a1d6f2f98>, 'Connection to img.supfree.net timed out. (connect timeout=4)'))\n",
      "Error http://www.ddmeishi.com/uploads/allimg/180301/2-1P301164F2.jpg HTTPConnectionPool(host='www.ddmeishi.com', port=80): Read timed out.\n",
      "Error http://www.ddmeishi.com/uploads/allimg/170908/5-1FZQ13249.png HTTPConnectionPool(host='www.ddmeishi.com', port=80): Read timed out.\n",
      "Error http://www.cq67.com/uploads/xiaotu/159848.jpg HTTPConnectionPool(host='www.cq67.com', port=80): Max retries exceeded with url: /uploads/xiaotu/159848.jpg (Caused by ConnectTimeoutError(<urllib3.connection.HTTPConnection object at 0x1a1d0dfe10>, 'Connection to www.cq67.com timed out. (connect timeout=4)'))\n",
      "Error https://pic.pingguolv.com/uploads/allimg/180226/147-1P2261GT2.jpg HTTPSConnectionPool(host='pic.pingguolv.com', port=443): Read timed out. (read timeout=4)\n",
      "Error https://www.haocai777.com/Article/UploadFiles2012c/201512/2015122407464551.jpg HTTPSConnectionPool(host='www.haocai777.com', port=443): Max retries exceeded with url: /Article/UploadFiles2012c/201512/2015122407464551.jpg (Caused by ConnectTimeoutError(<urllib3.connection.VerifiedHTTPSConnection object at 0x1a1d0dfa20>, 'Connection to www.haocai777.com timed out. (connect timeout=4)'))\n",
      "Error https://cp1.douguo.com/upload/caiku/b/3/e/yuan_b3afe327dc6df5cd75832c70e59b73ee.jpg HTTPSConnectionPool(host='cp1.douguo.com', port=443): Read timed out. (read timeout=4)\n",
      "Error https://www.uooyoo.com/img2018/1/16/2018011653406281.jpg HTTPSConnectionPool(host='www.uooyoo.com', port=443): Read timed out. (read timeout=4)\n",
      "Error https://www.uooyoo.com/img2016/7/5/2016070550453533.jpg HTTPSConnectionPool(host='www.uooyoo.com', port=443): Read timed out. (read timeout=4)\n",
      "Error http://tweb.ssps.tp.edu.tw/organization/aao/vegetable/Images/%E9%9F%AD%E8%8F%9C%E8%8A%B1.jpg HTTPConnectionPool(host='tweb.ssps.tp.edu.tw', port=80): Max retries exceeded with url: /organization/aao/vegetable/Images/%E9%9F%AD%E8%8F%9C%E8%8A%B1.jpg (Caused by ConnectTimeoutError(<urllib3.connection.HTTPConnection object at 0x1a1d0135f8>, 'Connection to tweb.ssps.tp.edu.tw timed out. (connect timeout=4)'))\n",
      "Error https://i8.meishichina.com/attachment/recipe/2017/02/21/2017022114876292305447821284.jpg?x-oss-process=style/p800 HTTPSConnectionPool(host='i8.meishichina.com', port=443): Max retries exceeded with url: /attachment/recipe/2017/02/21/2017022114876292305447821284.jpg?x-oss-process=style/p800 (Caused by ConnectTimeoutError(<urllib3.connection.VerifiedHTTPSConnection object at 0x1a1d013128>, 'Connection to i8.meishichina.com timed out. (connect timeout=4)'))\n",
      "Error http://p2.qhimgs4.com/bdr/640__/t0122f93e013ab025b4.jpg HTTPConnectionPool(host='p2.qhimgs4.com', port=80): Read timed out. (read timeout=4)\n",
      "Error https://img.ruten.com.tw/s3/162/287/xiaobaicai/c/66/fe/21821064068862_508.jpg ('Connection aborted.', OSError(\"(54, 'ECONNRESET')\"))\n",
      "Error https://img.ruten.com.tw/s1/c/69/99/21816904637849_383.jpg ('Connection aborted.', OSError(\"(54, 'ECONNRESET')\"))\n",
      "Error https://i8.meishichina.com/attachment/recipe/201108/201108151002298.jpg?x-oss-process=style/c320 HTTPSConnectionPool(host='i8.meishichina.com', port=443): Max retries exceeded with url: /attachment/recipe/201108/201108151002298.jpg?x-oss-process=style/c320 (Caused by ConnectTimeoutError(<urllib3.connection.VerifiedHTTPSConnection object at 0x1a1d6f2be0>, 'Connection to i8.meishichina.com timed out. (connect timeout=4)'))\n",
      "Error https://i8.meishichina.com/attachment/recipe/2014/05/06/20140506131029444270361.jpg?x-oss-process=style/c320 HTTPSConnectionPool(host='i8.meishichina.com', port=443): Max retries exceeded with url: /attachment/recipe/2014/05/06/20140506131029444270361.jpg?x-oss-process=style/c320 (Caused by ConnectTimeoutError(<urllib3.connection.VerifiedHTTPSConnection object at 0x1a1d6d0128>, 'Connection to i8.meishichina.com timed out. (connect timeout=4)'))\n"
     ]
    },
    {
     "name": "stdout",
     "output_type": "stream",
     "text": [
      "Error https://img.ruten.com.tw/s3/01d/991/2343455/5/2b/e1/21809720638433_789.jpg ('Connection aborted.', OSError(\"(54, 'ECONNRESET')\"))\n",
      "Error http://www.ddmeishi.com/uploads/allimg/170424/6-1F424095918.jpg HTTPConnectionPool(host='www.ddmeishi.com', port=80): Read timed out.\n",
      "Error http://image.zhms.cn/2015-12/3e3bb68a9a914668bb4466a757afce3f.jpg?x-oss-process=image/format,jpg/interlace,1/resize,m_fill,h_270,w_270/watermark,image_RGVmYXVsdC9iLnBuZw==,t_35,g_se,x_10,y_10 HTTPConnectionPool(host='image.zhms.cn', port=80): Max retries exceeded with url: /2015-12/3e3bb68a9a914668bb4466a757afce3f.jpg?x-oss-process=image/format,jpg/interlace,1/resize,m_fill,h_270,w_270/watermark,image_RGVmYXVsdC9iLnBuZw==,t_35,g_se,x_10,y_10 (Caused by ConnectTimeoutError(<urllib3.connection.HTTPConnection object at 0x1a1d0dff28>, 'Connection to image.zhms.cn timed out. (connect timeout=4)'))\n",
      "Error https://img.ruten.com.tw/s2/3/12/38/21730777196088_473.JPG ('Connection aborted.', OSError(\"(54, 'ECONNRESET')\"))\n",
      "Error https://i8.meishichina.com/attachment/recipe/201103/201103071450359.JPG?x-oss-process=style/p800 HTTPSConnectionPool(host='i8.meishichina.com', port=443): Max retries exceeded with url: /attachment/recipe/201103/201103071450359.JPG?x-oss-process=style/p800 (Caused by ConnectTimeoutError(<urllib3.connection.VerifiedHTTPSConnection object at 0x1a1d0d1e10>, 'Connection to i8.meishichina.com timed out. (connect timeout=4)'))\n",
      "Error https://gaitaobao3.alicdn.com/tfscom/i4/2880357473/O1CN01254gH18kjYxOIdT_!!2880357473.jpg_310x310.jpg HTTPSConnectionPool(host='gaitaobao3.alicdn.com', port=443): Read timed out. (read timeout=4)\n",
      "Error http://image.zhms.cn/2016-03/e0fec01c9f3d4f65aff22dbbb966d265.jpg?x-oss-process=image/format,jpg/interlace,1/watermark,image_RGVmYXVsdC9iLnBuZw==,t_35,g_se,x_10,y_10 HTTPConnectionPool(host='image.zhms.cn', port=80): Read timed out.\n",
      "Error https://tc2.yqbimg.net/cms_jfmall/goodsimg/cms/file/2018_7_2/APP15305383082059549_270_270.jpg HTTPSConnectionPool(host='tc2.yqbimg.net', port=443): Max retries exceeded with url: /cms_jfmall/goodsimg/cms/file/2018_7_2/APP15305383082059549_270_270.jpg (Caused by ConnectTimeoutError(<urllib3.connection.VerifiedHTTPSConnection object at 0x1a1d6d0470>, 'Connection to tc2.yqbimg.net timed out. (connect timeout=4)'))\n",
      "Error https://i8.meishichina.com/attachment/recipe/201108/201108121418406.JPG?x-oss-process=style/p320 HTTPSConnectionPool(host='i8.meishichina.com', port=443): Max retries exceeded with url: /attachment/recipe/201108/201108121418406.JPG?x-oss-process=style/p320 (Caused by ConnectTimeoutError(<urllib3.connection.VerifiedHTTPSConnection object at 0x1a1d6f2208>, 'Connection to i8.meishichina.com timed out. (connect timeout=4)'))\n",
      "Error http://www.%E8%B6%85%E4%B9%90%E5%86%9C%E5%BA%84.net/images/201504/goods_img/422_P_1428979121114.jpg HTTPConnectionPool(host='www.%e8%b6%85%e4%b9%90%e5%86%9c%e5%ba%84.net', port=80): Max retries exceeded with url: /images/201504/goods_img/422_P_1428979121114.jpg (Caused by NewConnectionError('<urllib3.connection.HTTPConnection object at 0x1a1d6f1fd0>: Failed to establish a new connection: [Errno 8] nodename nor servname provided, or not known'))\n",
      "Error http://r3.sinaimg.cn/201511/000/000/aHR0cDovL21tYml6LnFwaWMuY24vbW1iaXovN01odWVlSm81V0k1Sk1MaWN5dnd2Y2w5cjh3dWs0VUdYVkE4bDBLRXRqbmhaMjlEWlVZaWNIN2FaUVZIUnUxYzdpYzRxWWtJQlBMVklXSnVOWXF3ZmlhcHR3LzAraHR0cDovL21wLndlaXhpbi5xcS5jb20vcz9fX2Jpej1NekEzT0RNek1ERXhOUT09Jm1pZD00MDA0NzEyNTMmaWR4PTEmc249MWRmZTg4ZDRkYzkyYWRmMjc4MDY1NGU1N2NhZTc0YzEmM3JkPU16QTNNRFU0TlRZek13PT0mc2NlbmU9Ng==.jpg HTTPConnectionPool(host='r3.sinaimg.cn', port=80): Max retries exceeded with url: /201511/000/000/aHR0cDovL21tYml6LnFwaWMuY24vbW1iaXovN01odWVlSm81V0k1Sk1MaWN5dnd2Y2w5cjh3dWs0VUdYVkE4bDBLRXRqbmhaMjlEWlVZaWNIN2FaUVZIUnUxYzdpYzRxWWtJQlBMVklXSnVOWXF3ZmlhcHR3LzAraHR0cDovL21wLndlaXhpbi5xcS5jb20vcz9fX2Jpej1NekEzT0RNek1ERXhOUT09Jm1pZD00MDA0NzEyNTMmaWR4PTEmc249MWRmZTg4ZDRkYzkyYWRmMjc4MDY1NGU1N2NhZTc0YzEmM3JkPU16QTNNRFU0TlRZek13PT0mc2NlbmU9Ng==.jpg (Caused by NewConnectionError('<urllib3.connection.HTTPConnection object at 0x1a1d706400>: Failed to establish a new connection: [Errno 61] Connection refused'))\n",
      "Error http://r3.sinaimg.cn/201511/000/000/aHR0cDovL21tYml6LnFwaWMuY24vbW1iaXovN01odWVlSm81V0p0bzRYZzYzaHN1VWpRV2lhbkhmaWJyZGxpY0lvM3BTejR2Y2hkeURKbVBWRzFYZ1JpYXFJUldMZ2hvRENIYnJHOXZleklOaWFZOG1kcTE3Zy8wP3d4X2ZtdD1qcGVnK2h0dHA6Ly9tcC53ZWl4aW4ucXEuY29tL3M/X19iaXo9TXpBM09ETXpNREV4TlE9PSZtaWQ9NDAwNDcxMjUzJmlkeD0xJnNuPTFkZmU4OGQ0ZGM5MmFkZjI3ODA2NTRlNTdjYWU3NGMxJjNyZD1NekEzTURVNE5UWXpNdz09JnNjZW5lPTY=.jpg HTTPConnectionPool(host='r3.sinaimg.cn', port=80): Max retries exceeded with url: /201511/000/000/aHR0cDovL21tYml6LnFwaWMuY24vbW1iaXovN01odWVlSm81V0p0bzRYZzYzaHN1VWpRV2lhbkhmaWJyZGxpY0lvM3BTejR2Y2hkeURKbVBWRzFYZ1JpYXFJUldMZ2hvRENIYnJHOXZleklOaWFZOG1kcTE3Zy8wP3d4X2ZtdD1qcGVnK2h0dHA6Ly9tcC53ZWl4aW4ucXEuY29tL3M/X19iaXo9TXpBM09ETXpNREV4TlE9PSZtaWQ9NDAwNDcxMjUzJmlkeD0xJnNuPTFkZmU4OGQ0ZGM5MmFkZjI3ODA2NTRlNTdjYWU3NGMxJjNyZD1NekEzTURVNE5UWXpNdz09JnNjZW5lPTY=.jpg (Caused by NewConnectionError('<urllib3.connection.HTTPConnection object at 0x1a1d6f1358>: Failed to establish a new connection: [Errno 61] Connection refused'))\n",
      "Error http://www.weifengseeds.com/img/0/2017/6/6/201706061408097381.jpg HTTPConnectionPool(host='www.weifengseeds.com', port=80): Max retries exceeded with url: /img/0/2017/6/6/201706061408097381.jpg (Caused by ConnectTimeoutError(<urllib3.connection.HTTPConnection object at 0x1a1d6f1940>, 'Connection to www.weifengseeds.com timed out. (connect timeout=4)'))\n",
      "Error http://www.ny365.com.cn/productimg/2017-7/20170704135550.jpg HTTPConnectionPool(host='www.ny365.com.cn', port=80): Read timed out. (read timeout=4)\n",
      "Error http://www.longdazhongye.com/img/0/2017/5/3/201705031634214720.jpg HTTPConnectionPool(host='www.longdazhongye.com', port=80): Max retries exceeded with url: /img/0/2017/5/3/201705031634214720.jpg (Caused by ConnectTimeoutError(<urllib3.connection.HTTPConnection object at 0x1a1d6f1518>, 'Connection to www.longdazhongye.com timed out. (connect timeout=4)'))\n",
      "Error http://www.%E8%B6%85%E4%B9%90%E5%86%9C%E5%BA%84.net/images/201504/goods_img/421_P_1428978966461.jpg HTTPConnectionPool(host='www.%e8%b6%85%e4%b9%90%e5%86%9c%e5%ba%84.net', port=80): Max retries exceeded with url: /images/201504/goods_img/421_P_1428978966461.jpg (Caused by NewConnectionError('<urllib3.connection.HTTPConnection object at 0x1a1d6e4550>: Failed to establish a new connection: [Errno 8] nodename nor servname provided, or not known'))\n",
      "Error http://r3.sinaimg.cn/201511/000/000/aHR0cDovL21tYml6LnFwaWMuY24vbW1iaXovN01odWVlSm81V0k1Sk1MaWN5dnd2Y2w5cjh3dWs0VUdYd1pRWVZmQVNpY1N6N0Z0TGlhUGEwZ1VudllYU3lFek9veERsSU44SGt0azJsUU5TN2liVGNEelZRLzAraHR0cDovL21wLndlaXhpbi5xcS5jb20vcz9fX2Jpej1NekEzT0RNek1ERXhOUT09Jm1pZD00MDA0NzEyNTMmaWR4PTEmc249MWRmZTg4ZDRkYzkyYWRmMjc4MDY1NGU1N2NhZTc0YzEmM3JkPU16QTNNRFU0TlRZek13PT0mc2NlbmU9Ng==.jpg HTTPConnectionPool(host='r3.sinaimg.cn', port=80): Max retries exceeded with url: /201511/000/000/aHR0cDovL21tYml6LnFwaWMuY24vbW1iaXovN01odWVlSm81V0k1Sk1MaWN5dnd2Y2w5cjh3dWs0VUdYd1pRWVZmQVNpY1N6N0Z0TGlhUGEwZ1VudllYU3lFek9veERsSU44SGt0azJsUU5TN2liVGNEelZRLzAraHR0cDovL21wLndlaXhpbi5xcS5jb20vcz9fX2Jpej1NekEzT0RNek1ERXhOUT09Jm1pZD00MDA0NzEyNTMmaWR4PTEmc249MWRmZTg4ZDRkYzkyYWRmMjc4MDY1NGU1N2NhZTc0YzEmM3JkPU16QTNNRFU0TlRZek13PT0mc2NlbmU9Ng==.jpg (Caused by NewConnectionError('<urllib3.connection.HTTPConnection object at 0x1a1d706320>: Failed to establish a new connection: [Errno 61] Connection refused'))\n",
      "Error http://r3.sinaimg.cn/201511/000/000/aHR0cDovL21tYml6LnFwaWMuY24vbW1iaXovN01odWVlSm81V0k1Sk1MaWN5dnd2Y2w5cjh3dWs0VUdYUjNBQ2ljSFFZWllVQks5WEZBZXJpYUxzQno3Rzl5b0ZlczdsSUR5Nld3MGVSU1lvYzQ4QVBIZlEvMCtodHRwOi8vbXAud2VpeGluLnFxLmNvbS9zP19fYml6PU16QTNPRE16TURFeE5RPT0mbWlkPTQwMDQ3MTI1MyZpZHg9MSZzbj0xZGZlODhkNGRjOTJhZGYyNzgwNjU0ZTU3Y2FlNzRjMSYzcmQ9TXpBM01EVTROVFl6TXc9PSZzY2VuZT02.jpg HTTPConnectionPool(host='r3.sinaimg.cn', port=80): Max retries exceeded with url: /201511/000/000/aHR0cDovL21tYml6LnFwaWMuY24vbW1iaXovN01odWVlSm81V0k1Sk1MaWN5dnd2Y2w5cjh3dWs0VUdYUjNBQ2ljSFFZWllVQks5WEZBZXJpYUxzQno3Rzl5b0ZlczdsSUR5Nld3MGVSU1lvYzQ4QVBIZlEvMCtodHRwOi8vbXAud2VpeGluLnFxLmNvbS9zP19fYml6PU16QTNPRE16TURFeE5RPT0mbWlkPTQwMDQ3MTI1MyZpZHg9MSZzbj0xZGZlODhkNGRjOTJhZGYyNzgwNjU0ZTU3Y2FlNzRjMSYzcmQ9TXpBM01EVTROVFl6TXc9PSZzY2VuZT02.jpg (Caused by NewConnectionError('<urllib3.connection.HTTPConnection object at 0x1a1d6e7208>: Failed to establish a new connection: [Errno 61] Connection refused'))\n"
     ]
    },
    {
     "name": "stdout",
     "output_type": "stream",
     "text": [
      "Error http://img14.360buyimg.com/n7/jfs/t2680/203/542441041/964118/66007d3/5719b9ebNd158fb27.jpg HTTPConnectionPool(host='img14.360buyimg.com', port=80): Read timed out. (read timeout=4)\n",
      "Error http://www.yydnc.com/data/upload/shop/store/goods/1/1_05708992051479736_360.jpg Exceeded 30 redirects.\n",
      "Error http://r3.sinaimg.cn/201511/000/000/aHR0cDovL21tYml6LnFwaWMuY24vbW1iaXovN01odWVlSm81V0k1Sk1MaWN5dnd2Y2w5cjh3dWs0VUdYaWFpYUY1NDVpYXFmT0dvN1ZGQ2hic2ljaWJCVWFRMHYwRmZlZ2NvNVduV09JYXlLWUZublF1Y3U3WlEvMCtodHRwOi8vbXAud2VpeGluLnFxLmNvbS9zP19fYml6PU16QTNPRE16TURFeE5RPT0mbWlkPTQwMDQ3MTI1MyZpZHg9MSZzbj0xZGZlODhkNGRjOTJhZGYyNzgwNjU0ZTU3Y2FlNzRjMSYzcmQ9TXpBM01EVTROVFl6TXc9PSZzY2VuZT02.jpg HTTPConnectionPool(host='r3.sinaimg.cn', port=80): Max retries exceeded with url: /201511/000/000/aHR0cDovL21tYml6LnFwaWMuY24vbW1iaXovN01odWVlSm81V0k1Sk1MaWN5dnd2Y2w5cjh3dWs0VUdYaWFpYUY1NDVpYXFmT0dvN1ZGQ2hic2ljaWJCVWFRMHYwRmZlZ2NvNVduV09JYXlLWUZublF1Y3U3WlEvMCtodHRwOi8vbXAud2VpeGluLnFxLmNvbS9zP19fYml6PU16QTNPRE16TURFeE5RPT0mbWlkPTQwMDQ3MTI1MyZpZHg9MSZzbj0xZGZlODhkNGRjOTJhZGYyNzgwNjU0ZTU3Y2FlNzRjMSYzcmQ9TXpBM01EVTROVFl6TXc9PSZzY2VuZT02.jpg (Caused by NewConnectionError('<urllib3.connection.HTTPConnection object at 0x1a1d6cd4e0>: Failed to establish a new connection: [Errno 61] Connection refused'))\n",
      "Error https://i8.meishichina.com/attachment/recipe/2018/08/18/2018081815346037231336720441.jpg?x-oss-process=style/p320 HTTPSConnectionPool(host='i8.meishichina.com', port=443): Max retries exceeded with url: /attachment/recipe/2018/08/18/2018081815346037231336720441.jpg?x-oss-process=style/p320 (Caused by ConnectTimeoutError(<urllib3.connection.VerifiedHTTPSConnection object at 0x1a1d6f1da0>, 'Connection to i8.meishichina.com timed out. (connect timeout=4)'))\n",
      "Error http://r3.sinaimg.cn/201511/000/000/aHR0cDovL21tYml6LnFwaWMuY24vbW1iaXovN01odWVlSm81V0k1Sk1MaWN5dnd2Y2w5cjh3dWs0VUdYbFVBMHBIdmFRQklWMWt4dEVReDRacTIyWnlmbzBWb2xDNXBFeDNvV3JqNW8zVkpleWNqQWdBLzAraHR0cDovL21wLndlaXhpbi5xcS5jb20vcz9fX2Jpej1NekEzT0RNek1ERXhOUT09Jm1pZD00MDA0NzEyNTMmaWR4PTEmc249MWRmZTg4ZDRkYzkyYWRmMjc4MDY1NGU1N2NhZTc0YzEmM3JkPU16QTNNRFU0TlRZek13PT0mc2NlbmU9Ng==.jpg HTTPConnectionPool(host='r3.sinaimg.cn', port=80): Max retries exceeded with url: /201511/000/000/aHR0cDovL21tYml6LnFwaWMuY24vbW1iaXovN01odWVlSm81V0k1Sk1MaWN5dnd2Y2w5cjh3dWs0VUdYbFVBMHBIdmFRQklWMWt4dEVReDRacTIyWnlmbzBWb2xDNXBFeDNvV3JqNW8zVkpleWNqQWdBLzAraHR0cDovL21wLndlaXhpbi5xcS5jb20vcz9fX2Jpej1NekEzT0RNek1ERXhOUT09Jm1pZD00MDA0NzEyNTMmaWR4PTEmc249MWRmZTg4ZDRkYzkyYWRmMjc4MDY1NGU1N2NhZTc0YzEmM3JkPU16QTNNRFU0TlRZek13PT0mc2NlbmU9Ng==.jpg (Caused by NewConnectionError('<urllib3.connection.HTTPConnection object at 0x1a1d6e49e8>: Failed to establish a new connection: [Errno 61] Connection refused'))\n",
      "Error http://img14.360buyimg.com/n7/jfs/t29338/330/321264085/182712/164e955f/5bef7255N6bfab64c.jpg HTTPConnectionPool(host='img14.360buyimg.com', port=80): Read timed out. (read timeout=4)\n",
      "Error http://r3.sinaimg.cn/201511/000/000/aHR0cDovL21tYml6LnFwaWMuY24vbW1iaXovN01odWVlSm81V0k1Sk1MaWN5dnd2Y2w5cjh3dWs0VUdYZ0JwYmN6YzZiNHhrVzFPaEhWM2NoODdWdVZsZHN3VU5OeVRXWHU3Tngyb092OUJjRVBsdzhnLzAraHR0cDovL21wLndlaXhpbi5xcS5jb20vcz9fX2Jpej1NekEzT0RNek1ERXhOUT09Jm1pZD00MDA0NzEyNTMmaWR4PTEmc249MWRmZTg4ZDRkYzkyYWRmMjc4MDY1NGU1N2NhZTc0YzEmM3JkPU16QTNNRFU0TlRZek13PT0mc2NlbmU9Ng==.jpg HTTPConnectionPool(host='r3.sinaimg.cn', port=80): Max retries exceeded with url: /201511/000/000/aHR0cDovL21tYml6LnFwaWMuY24vbW1iaXovN01odWVlSm81V0k1Sk1MaWN5dnd2Y2w5cjh3dWs0VUdYZ0JwYmN6YzZiNHhrVzFPaEhWM2NoODdWdVZsZHN3VU5OeVRXWHU3Tngyb092OUJjRVBsdzhnLzAraHR0cDovL21wLndlaXhpbi5xcS5jb20vcz9fX2Jpej1NekEzT0RNek1ERXhOUT09Jm1pZD00MDA0NzEyNTMmaWR4PTEmc249MWRmZTg4ZDRkYzkyYWRmMjc4MDY1NGU1N2NhZTc0YzEmM3JkPU16QTNNRFU0TlRZek13PT0mc2NlbmU9Ng==.jpg (Caused by NewConnectionError('<urllib3.connection.HTTPConnection object at 0x1a1d7063c8>: Failed to establish a new connection: [Errno 61] Connection refused'))\n",
      "Error http://r3.sinaimg.cn/201511/000/000/aHR0cDovL21tYml6LnFwaWMuY24vbW1iaXovN01odWVlSm81V0k1Sk1MaWN5dnd2Y2w5cjh3dWs0VUdYRmRpYUJ5Vm85VUliZTc4NkdnSEkzTHNPOXJFd1lwcWlicGt3UlVkSTFvelZrSjhRUTFPZHJrVWcvMCtodHRwOi8vbXAud2VpeGluLnFxLmNvbS9zP19fYml6PU16QTNPRE16TURFeE5RPT0mbWlkPTQwMDQ3MTI1MyZpZHg9MSZzbj0xZGZlODhkNGRjOTJhZGYyNzgwNjU0ZTU3Y2FlNzRjMSYzcmQ9TXpBM01EVTROVFl6TXc9PSZzY2VuZT02.jpg HTTPConnectionPool(host='r3.sinaimg.cn', port=80): Max retries exceeded with url: /201511/000/000/aHR0cDovL21tYml6LnFwaWMuY24vbW1iaXovN01odWVlSm81V0k1Sk1MaWN5dnd2Y2w5cjh3dWs0VUdYRmRpYUJ5Vm85VUliZTc4NkdnSEkzTHNPOXJFd1lwcWlicGt3UlVkSTFvelZrSjhRUTFPZHJrVWcvMCtodHRwOi8vbXAud2VpeGluLnFxLmNvbS9zP19fYml6PU16QTNPRE16TURFeE5RPT0mbWlkPTQwMDQ3MTI1MyZpZHg9MSZzbj0xZGZlODhkNGRjOTJhZGYyNzgwNjU0ZTU3Y2FlNzRjMSYzcmQ9TXpBM01EVTROVFl6TXc9PSZzY2VuZT02.jpg (Caused by NewConnectionError('<urllib3.connection.HTTPConnection object at 0x1a1d0cdb00>: Failed to establish a new connection: [Errno 61] Connection refused'))\n",
      "Error http://r3.sinaimg.cn/201511/000/000/aHR0cDovL21tYml6LnFwaWMuY24vbW1iaXovN01odWVlSm81V0k1Sk1MaWN5dnd2Y2w5cjh3dWs0VUdYZWlhaWJpYVZ4S2M1TTBLblBTeWljZWFqWklrUDNoaGowWlE4S01aYmFQTWJ3cHdoSFhxM0lnaWFOencvMCtodHRwOi8vbXAud2VpeGluLnFxLmNvbS9zP19fYml6PU16QTNPRE16TURFeE5RPT0mbWlkPTQwMDQ3MTI1MyZpZHg9MSZzbj0xZGZlODhkNGRjOTJhZGYyNzgwNjU0ZTU3Y2FlNzRjMSYzcmQ9TXpBM01EVTROVFl6TXc9PSZzY2VuZT02.jpg HTTPConnectionPool(host='r3.sinaimg.cn', port=80): Max retries exceeded with url: /201511/000/000/aHR0cDovL21tYml6LnFwaWMuY24vbW1iaXovN01odWVlSm81V0k1Sk1MaWN5dnd2Y2w5cjh3dWs0VUdYZWlhaWJpYVZ4S2M1TTBLblBTeWljZWFqWklrUDNoaGowWlE4S01aYmFQTWJ3cHdoSFhxM0lnaWFOencvMCtodHRwOi8vbXAud2VpeGluLnFxLmNvbS9zP19fYml6PU16QTNPRE16TURFeE5RPT0mbWlkPTQwMDQ3MTI1MyZpZHg9MSZzbj0xZGZlODhkNGRjOTJhZGYyNzgwNjU0ZTU3Y2FlNzRjMSYzcmQ9TXpBM01EVTROVFl6TXc9PSZzY2VuZT02.jpg (Caused by NewConnectionError('<urllib3.connection.HTTPConnection object at 0x1a1d6e46d8>: Failed to establish a new connection: [Errno 61] Connection refused'))\n",
      "Error http://shop.ag365.com/bookpic/2010-3/20100309154946.jpg HTTPConnectionPool(host='shop.ag365.com', port=80): Max retries exceeded with url: /bookpic/2010-3/20100309154946.jpg (Caused by ConnectTimeoutError(<urllib3.connection.HTTPConnection object at 0x1a1d7061d0>, 'Connection to shop.ag365.com timed out. (connect timeout=4)'))\n",
      "Error https://pic4.zhimg.com/v2-3fa3ec6dab50196ac8ccbd8c300f0edb_1200x500.jpg HTTPSConnectionPool(host='pic4.zhimg.com', port=443): Read timed out. (read timeout=4)\n",
      "Error https://image.suning.cn/uimg/b2c/newcatentries/0070067016-000000000126889037_2.jpg_800w_800h_4e HTTPSConnectionPool(host='image.suning.cn', port=443): Read timed out. (read timeout=4)\n",
      "Error https://img11.360buyimg.com/n1/jfs/t2191/349/2581784357/313479/5e553390/570d22d6N8993f3bb.jpg HTTPSConnectionPool(host='img11.360buyimg.com', port=443): Read timed out. (read timeout=4)\n",
      "Error https://i8.meishichina.com/attachment/recipe/201110/201110181410513.jpg?x-oss-process=style/c320 HTTPSConnectionPool(host='i8.meishichina.com', port=443): Max retries exceeded with url: /attachment/recipe/201110/201110181410513.jpg?x-oss-process=style/c320 (Caused by ConnectTimeoutError(<urllib3.connection.VerifiedHTTPSConnection object at 0x1a1d6e45c0>, 'Connection to i8.meishichina.com timed out. (connect timeout=4)'))\n",
      "Error http://img.wezhan.cn/content/sitefiles/90218/images/10035325_30%E5%BF%AB%E8%8F%9C.jpeg HTTPConnectionPool(host='img.wezhan.cn', port=80): Read timed out.\n",
      "Error http://r3.sinaimg.cn/201511/000/000/aHR0cDovL21tYml6LnFwaWMuY24vbW1iaXovN01odWVlSm81V0k1Sk1MaWN5dnd2Y2w5cjh3dWs0VUdYV3Z6ZEdTbzNPYW5FdG91WG5LYVFHTjFHYnR4RnVsR2RxQ0g2S2psWU9LdGpEOTNMb1MwWTNBLzAraHR0cDovL21wLndlaXhpbi5xcS5jb20vcz9fX2Jpej1NekEzT0RNek1ERXhOUT09Jm1pZD00MDA0NzEyNTMmaWR4PTEmc249MWRmZTg4ZDRkYzkyYWRmMjc4MDY1NGU1N2NhZTc0YzEmM3JkPU16QTNNRFU0TlRZek13PT0mc2NlbmU9Ng==.jpg HTTPConnectionPool(host='r3.sinaimg.cn', port=80): Max retries exceeded with url: /201511/000/000/aHR0cDovL21tYml6LnFwaWMuY24vbW1iaXovN01odWVlSm81V0k1Sk1MaWN5dnd2Y2w5cjh3dWs0VUdYV3Z6ZEdTbzNPYW5FdG91WG5LYVFHTjFHYnR4RnVsR2RxQ0g2S2psWU9LdGpEOTNMb1MwWTNBLzAraHR0cDovL21wLndlaXhpbi5xcS5jb20vcz9fX2Jpej1NekEzT0RNek1ERXhOUT09Jm1pZD00MDA0NzEyNTMmaWR4PTEmc249MWRmZTg4ZDRkYzkyYWRmMjc4MDY1NGU1N2NhZTc0YzEmM3JkPU16QTNNRFU0TlRZek13PT0mc2NlbmU9Ng==.jpg (Caused by NewConnectionError('<urllib3.connection.HTTPConnection object at 0x1a1d6cb2e8>: Failed to establish a new connection: [Errno 61] Connection refused'))\n"
     ]
    },
    {
     "name": "stdout",
     "output_type": "stream",
     "text": [
      "Error http://img14.360buyimg.com/n7/jfs/t1/4701/28/9491/778833/5bad9020E3f1e05b9/504d3152ee59e4d4.png HTTPConnectionPool(host='img14.360buyimg.com', port=80): Read timed out.\n",
      "Error http://www.foodqs.cn/memberpictures/2014/04/22/sxlzny_201404221122466493.JPG HTTPConnectionPool(host='www.foodqs.cn', port=80): Max retries exceeded with url: /memberpictures/2014/04/22/sxlzny_201404221122466493.JPG (Caused by ConnectTimeoutError(<urllib3.connection.HTTPConnection object at 0x1a1d0e3ac8>, 'Connection to www.foodqs.cn timed out. (connect timeout=4)'))\n",
      "Error http://www.ny365.com.cn/bookpic/2011-1/20110104135848.jpg HTTPConnectionPool(host='www.ny365.com.cn', port=80): Max retries exceeded with url: /bookpic/2011-1/20110104135848.jpg (Caused by ConnectTimeoutError(<urllib3.connection.HTTPConnection object at 0x1a1d0e3ba8>, 'Connection to www.ny365.com.cn timed out. (connect timeout=4)'))\n",
      "Error https://cp1.douguo.com/upload/caiku/b/9/f/yuan_b921048f9ec3373c94854220752bfc2f.jpg HTTPSConnectionPool(host='cp1.douguo.com', port=443): Read timed out. (read timeout=4)\n",
      "Error http://img.jiankang.com/caipu/2014/11/29/fec21770c2_1.jpg HTTPConnectionPool(host='img.jiankang.com', port=80): Read timed out.\n",
      "Error http://image.zhms.cn/2017-06/8acf47021c8d48f69b27f04f33dbccf3.jpg?x-oss-process=image/format,jpg/interlace,1/watermark,image_RGVmYXVsdC9iLnBuZw==,t_35,g_se,x_10,y_10 HTTPConnectionPool(host='image.zhms.cn', port=80): Read timed out. (read timeout=4)\n",
      "Error http://pic12.nipic.com/20110105/1341920_084136650000_2.jpg HTTPConnectionPool(host='pic12.nipic.com', port=80): Read timed out. (read timeout=4)\n",
      "Error https://cp1.douguo.com/upload/caiku/1/d/5/yuan_1dcf9047790f82ef12e3d1aebd606bd5.jpeg HTTPSConnectionPool(host='cp1.douguo.com', port=443): Read timed out. (read timeout=4)\n",
      "Error http://m.taojinjubao.com/wximg/mmbiz_jpg/kUVBcY1pEGpg4XY0GU4yNu1Pkic0m9P74AgTJBzP5B6R6aib9McbsKKlO7CzVFB1uXPDNF9xc9iaPgVc8CQWQKjsg/640?wx_fmt=jpeg HTTPConnectionPool(host='m.taojinjubao.com', port=80): Read timed out. (read timeout=4)\n",
      "Error https://www.yacook.org/sites/default/files/yacomt0x0000/image/yacook200908/b/f-00072.jpg ('Connection aborted.', RemoteDisconnected('Remote end closed connection without response'))\n",
      "Error https://img14.360buyimg.com/n7/s186x186_jfs/t6358/322/2289587299/101507/6822db65/5960f9a1N2cf542b6.jpg HTTPSConnectionPool(host='img14.360buyimg.com', port=443): Read timed out. (read timeout=4)\n",
      "Error https://pic.pingguolv.com/uploads/allimg/180321/124-1P3211S016.png HTTPSConnectionPool(host='pic.pingguolv.com', port=443): Read timed out. (read timeout=4)\n",
      "Error http://seopic.699pic.com/photo/50049/9213.jpg_wh1200.jpg HTTPConnectionPool(host='seopic.699pic.com', port=80): Read timed out.\n",
      "Error https://pic.pingguolv.com/uploads/allimg/180131/77-1P131133327.jpg HTTPSConnectionPool(host='pic.pingguolv.com', port=443): Read timed out. (read timeout=4)\n",
      "Error http://chinabaike.com/article/UploadPic/2007-10/2007101522512898.jpg HTTPConnectionPool(host='chinabaike.com', port=80): Read timed out. (read timeout=4)\n",
      "Error https://p1.ssl.qhmsg.com/t0154f1a2e4b162a6b3.png HTTPSConnectionPool(host='p1.ssl.qhmsg.com', port=443): Read timed out. (read timeout=4)\n",
      "Error https://www.haocai777.com/Article/UploadFiles2012c/201303/2013031616214088.jpg HTTPSConnectionPool(host='www.haocai777.com', port=443): Max retries exceeded with url: /Article/UploadFiles2012c/201303/2013031616214088.jpg (Caused by ConnectTimeoutError(<urllib3.connection.VerifiedHTTPSConnection object at 0x1a1d6f2978>, 'Connection to www.haocai777.com timed out. (connect timeout=4)'))\n",
      "Error https://pic.pingguolv.com/uploads/allimg/140309/53-140309144534.jpg HTTPSConnectionPool(host='pic.pingguolv.com', port=443): Read timed out.\n",
      "Error https://static.cndzys.com/20161018/73a02307cddaadc4c9524a09eae83517.jpg HTTPSConnectionPool(host='static.cndzys.com', port=443): Max retries exceeded with url: /20161018/73a02307cddaadc4c9524a09eae83517.jpg (Caused by ConnectTimeoutError(<urllib3.connection.VerifiedHTTPSConnection object at 0x1a1d6f2b00>, 'Connection to static.cndzys.com timed out. (connect timeout=4)'))\n",
      "Error http://www.liaotuo.org/uploadfile/2016/0331/20160331032621152.jpg HTTPConnectionPool(host='www.liaotuo.org', port=80): Max retries exceeded with url: /uploadfile/2016/0331/20160331032621152.jpg (Caused by ConnectTimeoutError(<urllib3.connection.HTTPConnection object at 0x1a1d0c2a20>, 'Connection to www.liaotuo.org timed out. (connect timeout=4)'))\n",
      "Error https://www.uooyoo.com/img2016/8/19/2016081942058637.jpg HTTPSConnectionPool(host='www.uooyoo.com', port=443): Read timed out. (read timeout=4)\n",
      "Error https://www.uooyoo.com/img2016/6/14/2016061431903955.jpg HTTPSConnectionPool(host='www.uooyoo.com', port=443): Read timed out. (read timeout=4)\n",
      "Error https://img.ruten.com.tw/s2/7/eb/cc/21009123130316_686.jpg ('Connection aborted.', OSError(\"(54, 'ECONNRESET')\"))\n",
      "Error https://i8.meishichina.com/attachment/r/2012/06/07/20120607220400117118363.jpg?x-oss-process=style/p800 HTTPSConnectionPool(host='i8.meishichina.com', port=443): Max retries exceeded with url: /attachment/r/2012/06/07/20120607220400117118363.jpg?x-oss-process=style/p800 (Caused by ConnectTimeoutError(<urllib3.connection.VerifiedHTTPSConnection object at 0x1a1d013400>, 'Connection to i8.meishichina.com timed out. (connect timeout=4)'))\n",
      "Error https://i8.meishichina.com/attachment/recipe/2014/05/13/20140513211734924189962.jpg?x-oss-process=style/c320 HTTPSConnectionPool(host='i8.meishichina.com', port=443): Max retries exceeded with url: /attachment/recipe/2014/05/13/20140513211734924189962.jpg?x-oss-process=style/c320 (Caused by ConnectTimeoutError(<urllib3.connection.VerifiedHTTPSConnection object at 0x1a1d6f36a0>, 'Connection to i8.meishichina.com timed out. (connect timeout=4)'))\n",
      "Error https://www.uooyoo.com/img2016/6/30/2016063060781437.jpg HTTPSConnectionPool(host='www.uooyoo.com', port=443): Read timed out. (read timeout=4)\n",
      "Error https://i8.meishichina.com/attachment/recipe/2014/05/27/20140527102043562294510.jpg?x-oss-process=style/c320 HTTPSConnectionPool(host='i8.meishichina.com', port=443): Max retries exceeded with url: /attachment/recipe/2014/05/27/20140527102043562294510.jpg?x-oss-process=style/c320 (Caused by ConnectTimeoutError(<urllib3.connection.VerifiedHTTPSConnection object at 0x1a1d0e3438>, 'Connection to i8.meishichina.com timed out. (connect timeout=4)'))\n",
      "Error https://i8.meishichina.com/attachment/recipe/201106/201106161413180.jpg?x-oss-process=style/p800 HTTPSConnectionPool(host='i8.meishichina.com', port=443): Max retries exceeded with url: /attachment/recipe/201106/201106161413180.jpg?x-oss-process=style/p800 (Caused by ConnectTimeoutError(<urllib3.connection.VerifiedHTTPSConnection object at 0x1a1d013198>, 'Connection to i8.meishichina.com timed out. (connect timeout=4)'))\n",
      "Error https://i8.meishichina.com/attachment/recipe/2017/08/23/2017082315034727165252304656.jpg?x-oss-process=style/p800 HTTPSConnectionPool(host='i8.meishichina.com', port=443): Max retries exceeded with url: /attachment/recipe/2017/08/23/2017082315034727165252304656.jpg?x-oss-process=style/p800 (Caused by ConnectTimeoutError(<urllib3.connection.VerifiedHTTPSConnection object at 0x1a1d6f39e8>, 'Connection to i8.meishichina.com timed out. (connect timeout=4)'))\n",
      "Error https://i8.meishichina.com/attachment/recipe/2016/11/11/2016111114788519165848473848.jpg?x-oss-process=style/p800 HTTPSConnectionPool(host='i8.meishichina.com', port=443): Max retries exceeded with url: /attachment/recipe/2016/11/11/2016111114788519165848473848.jpg?x-oss-process=style/p800 (Caused by ConnectTimeoutError(<urllib3.connection.VerifiedHTTPSConnection object at 0x1a1d0e3f28>, 'Connection to i8.meishichina.com timed out. (connect timeout=4)'))\n",
      "Error https://pic.38fan.com/allimg/180828/60-1PRQ056200-L.png HTTPSConnectionPool(host='pic.38fan.com', port=443): Max retries exceeded with url: /allimg/180828/60-1PRQ056200-L.png (Caused by ConnectTimeoutError(<urllib3.connection.VerifiedHTTPSConnection object at 0x1a1d6fbeb8>, 'Connection to pic.38fan.com timed out. (connect timeout=4)'))\n"
     ]
    }
   ],
   "source": [
    "# for folder, file in zip(folders, files):\n",
    "#     dest = data_root_path/folder\n",
    "#     dest.mkdir(parents=True, exist_ok=True)\n",
    "#     download_images(links_path/file, dest)"
   ]
  },
  {
   "cell_type": "markdown",
   "metadata": {},
   "source": [
    "Many links did not work, but we still got guite a few images. The smallest class has 185 images, the largest one has 398."
   ]
  },
  {
   "cell_type": "code",
   "execution_count": 13,
   "metadata": {},
   "outputs": [
    {
     "name": "stdout",
     "output_type": "stream",
     "text": [
      "[195, 191, 188, 291, 328, 275, 295, 296, 379, 381, 398, 279, 294, 268, 385, 290, 193, 287, 290, 194, 191, 185, 200, 295, 289, 276, 299, 295, 297]\n",
      "185\n",
      "398\n"
     ]
    }
   ],
   "source": [
    "ns = [len(f.ls()) for f in data_root_path.ls()]\n",
    "print(ns)\n",
    "print(min(ns))\n",
    "print(max(ns))"
   ]
  },
  {
   "cell_type": "markdown",
   "metadata": {},
   "source": [
    "By looking in the folders, I see that many images are not relevant. They show cooked dishes or a totally irrelevant images. It's time to clean them."
   ]
  },
  {
   "cell_type": "markdown",
   "metadata": {},
   "source": [
    "### Mapping From Class Numbers to Names"
   ]
  },
  {
   "cell_type": "code",
   "execution_count": 14,
   "metadata": {},
   "outputs": [
    {
     "name": "stdout",
     "output_type": "stream",
     "text": [
      "﻿Class Chinese Pinyin English\n",
      "01 白菜 bái cài  Chinese cabbage\n",
      "02 菠菜 bō cài  spinach\n",
      "03 菜心 cài xīn  choy sum\n",
      "04 儿菜 ér cài  ér cài \n",
      "05 盖菜 gài cài  leaf mustard\n",
      "06 芥蓝 jiè lán  Chinese broccoli\n",
      "07 蒿子杆 hāo zǐ gān  Tricolor daisy\n",
      "08 黄心菜 huáng xīn cài  huáng xīn cài \n",
      "09 茴香 huí xiāng  fennel\n",
      "10 鸡毛菜 jī máo cài  jī máo cài \n",
      "11 韭菜 jiǔ cài  garlic chives\n",
      "12 空心菜 kōng xīn cài  water spinach\n",
      "13 快菜 kuài cài  kuài cài \n",
      "14 苦菊 kǔ jú  endive\n",
      "15 芦笋 lú sǔn  asparagus\n",
      "16 芹菜 qín cài xīn  celery\n",
      "17 蒜黄 suàn huáng  suàn huáng \n",
      "18 蒜苔 suàn tái  garlic shoots\n",
      "19 茼蒿菜 tóng hāo cài  crown daisy\n",
      "20 豌豆苗 wān dòu miáo  pea shoots\n",
      "21 莴苣 wō jù  lettuce\n",
      "22 香菜 xiāng cài  cilantro\n",
      "23 香芹 xiāng qín  parsley\n",
      "24 小白菜 xiǎo bái cài  bok choy\n",
      "25 西洋菜 xī yáng cài  watercress\n",
      "26 叶生菜 yè shēng cài  lettuce\n",
      "27 油菜 yóu cài  oilseed rape\n",
      "28 羽衣甘蓝 yǔ yī gān lán  kale\n",
      "29 竹笋 zhú sǔn bamboo shoot\n"
     ]
    }
   ],
   "source": [
    "names_path = 'names.csv'\n",
    "\n",
    "'''\n",
    "c - 2-character class string\n",
    "hz - hanzi (Chinese characters)\n",
    "py - pinyin (Chinese romanization)\n",
    "e - engligh\n",
    "'''\n",
    "\n",
    "# class to English\n",
    "c_to_e = {}\n",
    "c_to_hz = {}\n",
    "c_to_py = {}\n",
    "\n",
    "with open(names_path, 'r') as f:\n",
    "    for l in f:\n",
    "        c, hz, py, e = l.strip('\\n').split(',')\n",
    "        print(c, hz, py, e)\n",
    "        c_to_e[c] = e\n",
    "        c_to_hz[c] = hz\n",
    "        c_to_py[c] = py"
   ]
  },
  {
   "cell_type": "markdown",
   "metadata": {},
   "source": [
    "## Cleaning the Data\n",
    "\n",
    "I need to clean the data for each of the 29 classes, because there are a lot of irrelevant images."
   ]
  },
  {
   "cell_type": "markdown",
   "metadata": {},
   "source": [
    "### View Data"
   ]
  },
  {
   "cell_type": "code",
   "execution_count": 22,
   "metadata": {},
   "outputs": [],
   "source": [
    "old_ns = [195, 191, 188, 291, 328, 275, 295, 296, 379, 381, \n",
    "          398, 279, 294, 268, 385, 290, 193, 287, 290, 194, \n",
    "          191, 185, 200, 295, 289, 276, 299, 295, 297]\n",
    "\n",
    "new_ns = [len(f.ls()) for f in data_root_path.ls() if f.is_dir()]"
   ]
  },
  {
   "cell_type": "code",
   "execution_count": 23,
   "metadata": {},
   "outputs": [
    {
     "data": {
      "text/plain": [
       "8024"
      ]
     },
     "execution_count": 23,
     "metadata": {},
     "output_type": "execute_result"
    }
   ],
   "source": [
    "np.sum(old_ns)"
   ]
  },
  {
   "cell_type": "code",
   "execution_count": 24,
   "metadata": {},
   "outputs": [
    {
     "data": {
      "text/plain": [
       "2117"
      ]
     },
     "execution_count": 24,
     "metadata": {},
     "output_type": "execute_result"
    }
   ],
   "source": [
    "np.sum(new_ns)"
   ]
  },
  {
   "cell_type": "code",
   "execution_count": 25,
   "metadata": {},
   "outputs": [
    {
     "data": {
      "text/plain": [
       "0.26383349950149554"
      ]
     },
     "execution_count": 25,
     "metadata": {},
     "output_type": "execute_result"
    }
   ],
   "source": [
    "np.sum(new_ns) / np.sum(old_ns)"
   ]
  },
  {
   "cell_type": "markdown",
   "metadata": {},
   "source": [
    "As you can see, only 26.3% of original data remains in the data set."
   ]
  },
  {
   "cell_type": "code",
   "execution_count": 27,
   "metadata": {},
   "outputs": [
    {
     "name": "stdout",
     "output_type": "stream",
     "text": [
      "17\n",
      "156\n",
      "73.0\n",
      "73.0\n"
     ]
    }
   ],
   "source": [
    "print(np.min(new_ns))\n",
    "print(np.max(new_ns))\n",
    "print(np.median(new_ns))\n",
    "print(np.mean(new_ns))"
   ]
  },
  {
   "cell_type": "code",
   "execution_count": null,
   "metadata": {},
   "outputs": [],
   "source": []
  }
 ],
 "metadata": {
  "kernelspec": {
   "display_name": "Python 3",
   "language": "python",
   "name": "python3"
  },
  "language_info": {
   "codemirror_mode": {
    "name": "ipython",
    "version": 3
   },
   "file_extension": ".py",
   "mimetype": "text/x-python",
   "name": "python",
   "nbconvert_exporter": "python",
   "pygments_lexer": "ipython3",
   "version": "3.7.1"
  }
 },
 "nbformat": 4,
 "nbformat_minor": 2
}
